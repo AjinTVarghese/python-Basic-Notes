{
 "cells": [
  {
   "cell_type": "markdown",
   "id": "18ecee49-9a62-4cab-8d7f-bba4781352da",
   "metadata": {},
   "source": [
    "**Python Basic Terms**\n",
    "\n",
    "*   Syntax (Valid & Invalid)\n",
    "*   Comments"
   ]
  },
  {
   "cell_type": "code",
   "execution_count": 2,
   "id": "2ea4f532-7eb5-4c73-941c-5e473ff32238",
   "metadata": {},
   "outputs": [
    {
     "name": "stdout",
     "output_type": "stream",
     "text": [
      "Pimpri Chinchwad, Pune : 411057\n"
     ]
    }
   ],
   "source": [
    "address = 'Pimpri Chinchwad, Pune : 411057'    # This is my address\n",
    "print(address)                                # This is the print statement"
   ]
  },
  {
   "cell_type": "code",
   "execution_count": 4,
   "id": "aef847e7-e22e-412c-82ac-9e0cad1eb2ac",
   "metadata": {},
   "outputs": [
    {
     "name": "stdout",
     "output_type": "stream",
     "text": [
      "Pune\n"
     ]
    }
   ],
   "source": [
    "print('Pune')"
   ]
  },
  {
   "cell_type": "code",
   "execution_count": 6,
   "id": "30e7a0d2-0e8f-45f6-9566-0b0256d99118",
   "metadata": {},
   "outputs": [
    {
     "data": {
      "text/plain": [
       "'Pimpri Chinchwad, Pune : 411057'"
      ]
     },
     "execution_count": 6,
     "metadata": {},
     "output_type": "execute_result"
    }
   ],
   "source": [
    "address"
   ]
  },
  {
   "cell_type": "markdown",
   "id": "de662ed2-335b-41d8-9528-b124a1575b01",
   "metadata": {},
   "source": [
    "**Python Data Types, Type Casting & Variables**\n",
    "\n",
    "*   **Text Type:**\tstr\n",
    "*   **Numeric Types:**\tint, float\n",
    "*   **Sequence Types:**\tlist, tuple, range\n",
    "*   **Mapping Type:**\tdict\n",
    "*   **Set Types:**\tset\n",
    "*   **Boolean Type:**\tbool"
   ]
  },
  {
   "cell_type": "code",
   "execution_count": 9,
   "id": "1a28b58c-a131-4fa7-a292-e11c0eb68587",
   "metadata": {},
   "outputs": [],
   "source": [
    "name = 'Ajin'\n",
    "age = 20\n",
    "height = 5.8\n",
    "\n",
    "profile_1= ['Ajin',25,5.8,60,'Engineer']         # List Method\n",
    "profile_2 = ('Mssi',23,5.5,55,'Teacher')        # Tuple Method\n",
    "profile_3 = {'Name':'Sai','Role':'Cricket Analyst','age':22,'City':'Pune'} # Dictionary Method\n",
    "profile_4 = {'Sreedevi',55.6,'Teacher', 5.6}     # Set Method"
   ]
  },
  {
   "cell_type": "code",
   "execution_count": 11,
   "id": "7af71880-50e0-4633-b720-29ea9a9df180",
   "metadata": {},
   "outputs": [
    {
     "name": "stdout",
     "output_type": "stream",
     "text": [
      "{'Teacher', 5.6, 'Sreedevi', 55.6}\n"
     ]
    }
   ],
   "source": [
    "print(profile_4)"
   ]
  },
  {
   "cell_type": "code",
   "execution_count": 13,
   "id": "4879071c-c52a-4109-b0c2-4738eb1940b6",
   "metadata": {},
   "outputs": [
    {
     "data": {
      "text/plain": [
       "set"
      ]
     },
     "execution_count": 13,
     "metadata": {},
     "output_type": "execute_result"
    }
   ],
   "source": [
    "type(profile_4)"
   ]
  },
  {
   "cell_type": "code",
   "execution_count": 15,
   "id": "9c1c3024-9140-4605-9fde-5828caf33e9c",
   "metadata": {},
   "outputs": [
    {
     "data": {
      "text/plain": [
       "dict"
      ]
     },
     "execution_count": 15,
     "metadata": {},
     "output_type": "execute_result"
    }
   ],
   "source": [
    "type(profile_3)"
   ]
  },
  {
   "cell_type": "code",
   "execution_count": 17,
   "id": "0c249827-7704-419b-8bcd-ff502f85a567",
   "metadata": {},
   "outputs": [
    {
     "data": {
      "text/plain": [
       "tuple"
      ]
     },
     "execution_count": 17,
     "metadata": {},
     "output_type": "execute_result"
    }
   ],
   "source": [
    "type(profile_2)"
   ]
  },
  {
   "cell_type": "code",
   "execution_count": 19,
   "id": "f2aa7cda-78c2-4fec-8a12-a9b2e8ded9fc",
   "metadata": {},
   "outputs": [
    {
     "data": {
      "text/plain": [
       "list"
      ]
     },
     "execution_count": 19,
     "metadata": {},
     "output_type": "execute_result"
    }
   ],
   "source": [
    "type(profile_1)"
   ]
  },
  {
   "cell_type": "markdown",
   "id": "ce751887-bca6-44e4-9e14-bb3a611c6b10",
   "metadata": {},
   "source": [
    "**Python Operators**\n",
    "\n",
    "*   Arithmetic operators\n",
    "*   Assignment operators\n",
    "*   Comparison operators\n",
    "*   Logical operators\n",
    "*   Membership operators"
   ]
  },
  {
   "cell_type": "code",
   "execution_count": 34,
   "id": "61fcddd3-6738-4617-a201-f33cd0296d80",
   "metadata": {},
   "outputs": [
    {
     "name": "stdout",
     "output_type": "stream",
     "text": [
      "12\n"
     ]
    }
   ],
   "source": [
    "# Arithmetic Operators (+,-,*,/,%,**)                        # Used with numeric values to perform common mathematical operations\n",
    "\n",
    "x = 3\n",
    "y = 4\n",
    "\n",
    "# print(x+y, x-y, x*y, x/y, x%y, x**y)\n",
    "\n",
    "print(x*y)"
   ]
  },
  {
   "cell_type": "code",
   "execution_count": 38,
   "id": "2deef63c-3fb9-4297-a7fa-298b0564e79a",
   "metadata": {},
   "outputs": [
    {
     "name": "stdout",
     "output_type": "stream",
     "text": [
      "21\n"
     ]
    }
   ],
   "source": [
    "# Assignment Operators (=,+=,-=,*=,/=,%=,**=)                # Used to assign values to variables\n",
    "\n",
    "x, y = 7, 3\n",
    "\n",
    "# x = x - y\n",
    "# x -= y \n",
    "# x = x - y/\n",
    "\n",
    "x = x * y\n",
    "print(x)"
   ]
  },
  {
   "cell_type": "code",
   "execution_count": 40,
   "id": "fb80bf1d-92cd-4535-b2c4-d6b420db929f",
   "metadata": {},
   "outputs": [
    {
     "data": {
      "text/plain": [
       "False"
      ]
     },
     "execution_count": 40,
     "metadata": {},
     "output_type": "execute_result"
    }
   ],
   "source": [
    "# Comparison Operators (==,!=,<,>,<=,>=)                     # Used to compare two values\n",
    "# print(x == y, x != y, x < y, x > y, x <= y, x >= y)\n",
    "\n",
    "x, y = 5, 8\n",
    "x >= y"
   ]
  },
  {
   "cell_type": "code",
   "execution_count": 42,
   "id": "5963dc22-fbb2-4a62-99c3-2082fa099905",
   "metadata": {},
   "outputs": [
    {
     "name": "stdout",
     "output_type": "stream",
     "text": [
      "True False\n"
     ]
    }
   ],
   "source": [
    "# Logical Operators (==,!=,<,>,<=,>=)                        # Used to combine conditional statements\n",
    "# print(x and y)\n",
    "\n",
    "case1 =(x < y) or (x == y)\n",
    "print(case1,not(case1))"
   ]
  },
  {
   "cell_type": "code",
   "execution_count": 44,
   "id": "fb63d21f-38a5-4cb5-8f23-c502e94ea8ac",
   "metadata": {},
   "outputs": [
    {
     "data": {
      "text/plain": [
       "True"
      ]
     },
     "execution_count": 44,
     "metadata": {},
     "output_type": "execute_result"
    }
   ],
   "source": [
    "# Membership Operators (==,!=,<,>,<=,>=)                     # Used to test if a sequence is presented in an object\n",
    "# print(x in y, x not in y)\n",
    "\n",
    "x = [1,2,3,4,5]\n",
    "y = 6\n",
    "\n",
    "y not in x"
   ]
  },
  {
   "cell_type": "markdown",
   "id": "dc31b668-1c19-4d87-8a8f-1ad3484b68fc",
   "metadata": {},
   "source": [
    "\n",
    "# List and it's Methods\n",
    "\n",
    "Lists are used to store multiple items in a single variable.\n",
    "\n",
    "*   Lists are used to store multiple items in a single variable.\n",
    "*   It is a collection which is ordered, changeable and allows duplicate members.\n",
    "\n",
    "**List Methods**\n",
    "\n",
    "\n",
    "append(), sort(), reverse(), remove(), pop(), insert(), index(), extend(), count(), copy(), clear()"
   ]
  },
  {
   "cell_type": "code",
   "execution_count": 49,
   "id": "219b6ee9-edd4-4eac-aadf-1d71b1fa31a7",
   "metadata": {},
   "outputs": [
    {
     "data": {
      "text/plain": [
       "['apple', 'cherry', 'banana', 'orange']"
      ]
     },
     "execution_count": 49,
     "metadata": {},
     "output_type": "execute_result"
    }
   ],
   "source": [
    "fruits = ['apple', 'cherry', 'banana']\n",
    "fruits.append(\"orange\")\n",
    "fruits"
   ]
  },
  {
   "cell_type": "code",
   "execution_count": 51,
   "id": "e86434dd-62cd-448b-a63c-3c24947b8c57",
   "metadata": {},
   "outputs": [
    {
     "data": {
      "text/plain": [
       "['apple', 'banana', 'cherry']"
      ]
     },
     "execution_count": 51,
     "metadata": {},
     "output_type": "execute_result"
    }
   ],
   "source": [
    "fruits = ['apple', 'cherry', 'banana']\n",
    "fruits.sort()\n",
    "fruits"
   ]
  },
  {
   "cell_type": "code",
   "execution_count": 53,
   "id": "747471bc-0513-4dac-a286-3e1234e0fbb7",
   "metadata": {},
   "outputs": [
    {
     "data": {
      "text/plain": [
       "['banana', 'cherry', 'apple']"
      ]
     },
     "execution_count": 53,
     "metadata": {},
     "output_type": "execute_result"
    }
   ],
   "source": [
    "fruits = ['apple', 'cherry', 'banana']\n",
    "fruits.reverse()\n",
    "fruits"
   ]
  },
  {
   "cell_type": "code",
   "execution_count": 55,
   "id": "99271bcb-3fe2-4742-b886-ae5abcef0628",
   "metadata": {},
   "outputs": [
    {
     "data": {
      "text/plain": [
       "['apple', 'cherry']"
      ]
     },
     "execution_count": 55,
     "metadata": {},
     "output_type": "execute_result"
    }
   ],
   "source": [
    "fruits = ['apple', 'cherry', 'banana']\n",
    "fruits.remove('banana')\n",
    "fruits"
   ]
  },
  {
   "cell_type": "code",
   "execution_count": 57,
   "id": "a5e43d2f-1e5d-40e9-83cc-5699fa6a9fd4",
   "metadata": {},
   "outputs": [
    {
     "data": {
      "text/plain": [
       "['apple', 'banana']"
      ]
     },
     "execution_count": 57,
     "metadata": {},
     "output_type": "execute_result"
    }
   ],
   "source": [
    "fruits = ['apple', 'cherry', 'banana']\n",
    "fruits.pop(1)\n",
    "fruits"
   ]
  },
  {
   "cell_type": "code",
   "execution_count": 59,
   "id": "618771a5-91aa-4e31-9190-32431dea73c1",
   "metadata": {},
   "outputs": [
    {
     "data": {
      "text/plain": [
       "['apple', 'watermelon', 'cherry', 'banana']"
      ]
     },
     "execution_count": 59,
     "metadata": {},
     "output_type": "execute_result"
    }
   ],
   "source": [
    "fruits = ['apple', 'cherry', 'banana']\n",
    "fruits.insert(1, \"watermelon\")\n",
    "fruits"
   ]
  },
  {
   "cell_type": "code",
   "execution_count": 63,
   "id": "f13c9b0d-55ed-451f-a282-d25053f8cfa2",
   "metadata": {},
   "outputs": [
    {
     "data": {
      "text/plain": [
       "['apple', 'cherry', 'banana']"
      ]
     },
     "execution_count": 63,
     "metadata": {},
     "output_type": "execute_result"
    }
   ],
   "source": [
    "fruits = ['apple', 'cherry', 'banana']\n",
    "fruits.index(\"cherry\")\n",
    "fruits"
   ]
  },
  {
   "cell_type": "code",
   "execution_count": 67,
   "id": "c6cc994f-47d6-489b-bc6e-6619117841fe",
   "metadata": {},
   "outputs": [
    {
     "data": {
      "text/plain": [
       "['apple',\n",
       " 'cherry',\n",
       " 'banana',\n",
       " 'pineapple',\n",
       " 'strawaberry',\n",
       " 'guava',\n",
       " 'cherry',\n",
       " 'pineapple']"
      ]
     },
     "execution_count": 67,
     "metadata": {},
     "output_type": "execute_result"
    }
   ],
   "source": [
    "fruits = ['apple', 'cherry', 'banana']\n",
    "fruits2 = ['pineapple', 'strawaberry', 'guava','cherry','pineapple']\n",
    "fruits.extend(fruits2)\n",
    "fruits"
   ]
  },
  {
   "cell_type": "code",
   "execution_count": 69,
   "id": "90ac0949-e963-45d5-b3f8-c0031b0917d2",
   "metadata": {},
   "outputs": [
    {
     "data": {
      "text/plain": [
       "['apple',\n",
       " 'cherry',\n",
       " 'banana',\n",
       " 'pineapple',\n",
       " 'strawaberry',\n",
       " 'guava',\n",
       " 'cherry',\n",
       " 'pineapple']"
      ]
     },
     "execution_count": 69,
     "metadata": {},
     "output_type": "execute_result"
    }
   ],
   "source": [
    "fruits.count(\"cherry\")\n",
    "fruits"
   ]
  },
  {
   "cell_type": "code",
   "execution_count": 73,
   "id": "5de0fcf6-3173-4a04-b28b-7801696ba02c",
   "metadata": {},
   "outputs": [],
   "source": [
    "fruits.copy()\n",
    "fruits"
   ]
  },
  {
   "cell_type": "code",
   "execution_count": 75,
   "id": "cf5a7157-d87d-4927-ac67-d9dd7dde0725",
   "metadata": {},
   "outputs": [
    {
     "data": {
      "text/plain": [
       "[]"
      ]
     },
     "execution_count": 75,
     "metadata": {},
     "output_type": "execute_result"
    }
   ],
   "source": [
    "fruits.clear()\n",
    "fruits"
   ]
  },
  {
   "cell_type": "markdown",
   "id": "77f7cb95-1f9a-4bdc-afeb-3e413606e8cb",
   "metadata": {},
   "source": [
    "# String and it's Methods\n",
    "\n",
    "*   All string methods returns new values. They do not change the original string.\n",
    "\n",
    "**String Methods**\n",
    "\n",
    "*   isalpha(), isalnum(), index(), find(), count(), capitalize(), isdigit(), islower(), isnumeric()\n",
    "*   endswith(), upper(), title(), swapcase(), strip(), startswith(), split(), join(), lower(), replace()"
   ]
  },
  {
   "cell_type": "code",
   "execution_count": 80,
   "id": "86ce253e-9e3e-4358-a4d8-61e945b2b3da",
   "metadata": {},
   "outputs": [
    {
     "name": "stdout",
     "output_type": "stream",
     "text": [
      "Hello, my name is ajin.\n"
     ]
    }
   ],
   "source": [
    "txt = \"hello, my name is Ajin.\"\n",
    "a = txt.capitalize()\n",
    "print(a)"
   ]
  },
  {
   "cell_type": "code",
   "execution_count": 82,
   "id": "08f23b4e-5c76-41ff-95db-82198d1c7447",
   "metadata": {},
   "outputs": [
    {
     "name": "stdout",
     "output_type": "stream",
     "text": [
      "2\n"
     ]
    }
   ],
   "source": [
    "txt = \"I am from India and born in Kerala, India\"\n",
    "b = txt.count(\"India\")\n",
    "print(b)"
   ]
  },
  {
   "cell_type": "code",
   "execution_count": 84,
   "id": "5a21be34-da31-4937-a6e5-2c535ada5b4b",
   "metadata": {},
   "outputs": [
    {
     "name": "stdout",
     "output_type": "stream",
     "text": [
      "7\n"
     ]
    }
   ],
   "source": [
    "txt = \"I love movies\"\n",
    "c = txt.find(\"movies\")\n",
    "print(c)"
   ]
  },
  {
   "cell_type": "code",
   "execution_count": 86,
   "id": "a844c534-b8bd-4b45-84b6-90e214b24c36",
   "metadata": {},
   "outputs": [
    {
     "name": "stdout",
     "output_type": "stream",
     "text": [
      "7\n"
     ]
    }
   ],
   "source": [
    "d = txt.index(\"movies\")\n",
    "print(d)"
   ]
  },
  {
   "cell_type": "code",
   "execution_count": 88,
   "id": "c4dfed06-52df-45e8-8a54-8554edcf64fd",
   "metadata": {},
   "outputs": [
    {
     "name": "stdout",
     "output_type": "stream",
     "text": [
      "['hello', ' my name is Ajin', ' I am 20 years old']\n"
     ]
    }
   ],
   "source": [
    "txt = \"hello, my name is Ajin, I am 20 years old\"\n",
    "e = txt.split(',')\n",
    "print(e)"
   ]
  },
  {
   "cell_type": "markdown",
   "id": "cca8fe33-5e2c-4472-b555-d841da3ca17b",
   "metadata": {},
   "source": [
    "## Methods"
   ]
  },
  {
   "cell_type": "code",
   "execution_count": 91,
   "id": "4ec9c12c-4208-4b69-b540-028ad0a2172b",
   "metadata": {},
   "outputs": [
    {
     "name": "stdout",
     "output_type": "stream",
     "text": [
      "True\n"
     ]
    }
   ],
   "source": [
    "txt = \"messi10\"\n",
    "name = txt.isalnum()\n",
    "print(name)"
   ]
  },
  {
   "cell_type": "code",
   "execution_count": 93,
   "id": "67fdb389-9f41-46cc-bda6-f2b057dabb67",
   "metadata": {},
   "outputs": [
    {
     "name": "stdout",
     "output_type": "stream",
     "text": [
      "True\n"
     ]
    }
   ],
   "source": [
    "txt = \"messi\"\n",
    "alpha = txt.isalpha()\n",
    "print(alpha)"
   ]
  },
  {
   "cell_type": "code",
   "execution_count": 95,
   "id": "be9e4d30-0fc6-46b1-a9be-792a0e12bdb8",
   "metadata": {},
   "outputs": [
    {
     "name": "stdout",
     "output_type": "stream",
     "text": [
      "True\n"
     ]
    }
   ],
   "source": [
    "txt = '800'\n",
    "num = txt.isdigit()\n",
    "print(num)"
   ]
  },
  {
   "cell_type": "code",
   "execution_count": 97,
   "id": "f2d9cd78-215d-4eda-9ee4-7a64ffc314e8",
   "metadata": {},
   "outputs": [
    {
     "name": "stdout",
     "output_type": "stream",
     "text": [
      "Messi_luna_Hume\n"
     ]
    }
   ],
   "source": [
    "names = [\"Messi\", \"luna\", \"Hume\"]\n",
    "joined = \"_\".join(names)\n",
    "print(joined)"
   ]
  },
  {
   "cell_type": "code",
   "execution_count": 101,
   "id": "32bd849d-2f27-4b1c-8734-db7e148f2233",
   "metadata": {},
   "outputs": [
    {
     "name": "stdout",
     "output_type": "stream",
     "text": [
      "I love Sports\n"
     ]
    }
   ],
   "source": [
    "txt = \"I love Football\"\n",
    "result = txt.replace(\"Football\", \"Sports\")\n",
    "print(result)"
   ]
  },
  {
   "cell_type": "markdown",
   "id": "c0eafe95-ba2e-4960-a4e3-0ac4ed86f3a9",
   "metadata": {},
   "source": [
    "# Python Conditional Statements\n",
    "\n",
    "*   If , elif, else statements"
   ]
  },
  {
   "cell_type": "code",
   "execution_count": 108,
   "id": "0a9f561c-2c10-4adb-936f-3ea91682e131",
   "metadata": {},
   "outputs": [
    {
     "name": "stdout",
     "output_type": "stream",
     "text": [
      "Entered\n"
     ]
    }
   ],
   "source": [
    "a = 33\n",
    "b = 200\n",
    "if b > a:\n",
    "  print(\"Entered\")\n",
    "else:\n",
    "  print('Did not entered')"
   ]
  },
  {
   "cell_type": "code",
   "execution_count": 118,
   "id": "1aa9ed5b-4870-41da-b146-e6b7460dedc5",
   "metadata": {},
   "outputs": [
    {
     "name": "stdout",
     "output_type": "stream",
     "text": [
      "Both are equal\n"
     ]
    }
   ],
   "source": [
    "Thor = 80 \n",
    "Hulk = 80\n",
    "\n",
    "if Thor > Hulk:\n",
    "  print(\"Thor is greater than Hulk\")\n",
    "elif Thor == Hulk:\n",
    "  print(\"Both are equal\")\n",
    "else:\n",
    "  print(\"Hulk is greater than Thor\")"
   ]
  },
  {
   "cell_type": "code",
   "execution_count": 124,
   "id": "7d8f963d-3caf-4eb1-baa8-069345724370",
   "metadata": {},
   "outputs": [
    {
     "name": "stdout",
     "output_type": "stream",
     "text": [
      "He is Pass\n",
      "He got Distinction\n"
     ]
    }
   ],
   "source": [
    "marks = 72\n",
    "\n",
    "if marks > 35:\n",
    "  print(\"He is Pass\")\n",
    "  if marks > 60:\n",
    "    print(\"He got Distinction\")\n",
    "  else:\n",
    "    print(\"He is in Mid Range\")\n",
    "else:\n",
    "  print('He is Failed')"
   ]
  },
  {
   "cell_type": "markdown",
   "id": "068b43ee-438a-4796-9a8a-22eacdf007ee",
   "metadata": {},
   "source": [
    "# For Loop\n",
    "\n",
    "*   It is used for iterating over a sequence (that is either a list, a tuple, a dictionary, a set, or a string).\n",
    "*   Using Break & Contiue keyword"
   ]
  },
  {
   "cell_type": "code",
   "execution_count": 127,
   "id": "6e847012-4e66-472a-895a-1516be092488",
   "metadata": {},
   "outputs": [
    {
     "name": "stdout",
     "output_type": "stream",
     "text": [
      "apple\n",
      "banana\n",
      "cherry\n",
      "pineappple\n",
      "mango\n"
     ]
    }
   ],
   "source": [
    "fruits = [\"apple\", \"banana\", \"cherry\",'pineappple','mango']\n",
    "\n",
    "for i in fruits:\n",
    "  print(i)"
   ]
  },
  {
   "cell_type": "markdown",
   "id": "22d3a8be-9999-4fa9-83be-369bac0eb03a",
   "metadata": {},
   "source": [
    "## Break"
   ]
  },
  {
   "cell_type": "code",
   "execution_count": 130,
   "id": "bb124258-08ab-4fd7-946e-7ab6e86e5c34",
   "metadata": {},
   "outputs": [
    {
     "name": "stdout",
     "output_type": "stream",
     "text": [
      "apple\n",
      "banana\n"
     ]
    }
   ],
   "source": [
    "for x in fruits:\n",
    "  print(x)\n",
    "  if x == \"banana\":\n",
    "    break"
   ]
  },
  {
   "cell_type": "markdown",
   "id": "cf08a3bb-970c-41cb-b5ee-8f0e305430ad",
   "metadata": {},
   "source": [
    "## Countinue"
   ]
  },
  {
   "cell_type": "code",
   "execution_count": 133,
   "id": "763a0026-15d2-4d95-be2b-46dea436d47a",
   "metadata": {},
   "outputs": [
    {
     "name": "stdout",
     "output_type": "stream",
     "text": [
      "apple\n",
      "banana\n",
      "pineappple\n",
      "mango\n"
     ]
    }
   ],
   "source": [
    "for x in fruits:\n",
    "  if x == \"cherry\":\n",
    "    continue\n",
    "  print(x)"
   ]
  },
  {
   "cell_type": "markdown",
   "id": "50f3f778-ff2b-41dc-9777-6486108ab512",
   "metadata": {},
   "source": [
    "# While Loop\n",
    "\n",
    "*   With the while loop we can execute a set of statements as long as a condition is true.\n",
    "*   Using Break & Contiue keyword"
   ]
  },
  {
   "cell_type": "code",
   "execution_count": 136,
   "id": "c2ee9344-1150-4222-bf33-9ee159df2f48",
   "metadata": {},
   "outputs": [
    {
     "name": "stdout",
     "output_type": "stream",
     "text": [
      "1\n",
      "2\n",
      "3\n",
      "4\n",
      "5\n"
     ]
    }
   ],
   "source": [
    "num = 1\n",
    "\n",
    "while num < 6:\n",
    "  print(num)\n",
    "  num += 1"
   ]
  },
  {
   "cell_type": "code",
   "execution_count": 138,
   "id": "603d45ea-3cbf-443a-ad71-e0082fb92189",
   "metadata": {},
   "outputs": [
    {
     "name": "stdout",
     "output_type": "stream",
     "text": [
      "1\n",
      "2\n",
      "3\n"
     ]
    }
   ],
   "source": [
    "num = 1\n",
    "\n",
    "while num < 6:\n",
    "  print(num)\n",
    "  if num == 3:\n",
    "    break\n",
    "  num = num + 1"
   ]
  },
  {
   "cell_type": "code",
   "execution_count": 140,
   "id": "5ad9ca5e-46c0-42db-86b0-b5f611cdace0",
   "metadata": {},
   "outputs": [
    {
     "name": "stdout",
     "output_type": "stream",
     "text": [
      "1\n",
      "2\n",
      "3\n",
      "4\n",
      "6\n",
      "7\n",
      "8\n",
      "9\n",
      "10\n"
     ]
    }
   ],
   "source": [
    "num = 0\n",
    "\n",
    "while num < 10:\n",
    "  num += 1\n",
    "  if num == 5:\n",
    "    continue\n",
    "  print(num)"
   ]
  },
  {
   "cell_type": "markdown",
   "id": "5df09459-52d8-404b-b102-7f5c1e8365dd",
   "metadata": {},
   "source": [
    "# Python Functions\n",
    "\n",
    "*   A function is a block of code which only runs when it is called.\n",
    "*   Advanced Functions - lambda, map, zip"
   ]
  },
  {
   "cell_type": "code",
   "execution_count": 148,
   "id": "500d28e8-cc69-47e9-aced-5fc4ccb304ac",
   "metadata": {},
   "outputs": [],
   "source": [
    "def intro():                     # Function Defining\n",
    "  value = 5\n",
    "  return value**2"
   ]
  },
  {
   "cell_type": "code",
   "execution_count": 150,
   "id": "4545766d-0ede-4644-af78-e5e55b7e37bf",
   "metadata": {},
   "outputs": [
    {
     "data": {
      "text/plain": [
       "25"
      ]
     },
     "execution_count": 150,
     "metadata": {},
     "output_type": "execute_result"
    }
   ],
   "source": [
    "intro()"
   ]
  },
  {
   "cell_type": "code",
   "execution_count": 160,
   "id": "bbff9f5f-1987-4708-91fc-51d7caeba162",
   "metadata": {},
   "outputs": [],
   "source": [
    "def my_ID(name):                    # Function with Arguments\n",
    "  print(\"LM010_\" + name)"
   ]
  },
  {
   "cell_type": "code",
   "execution_count": 162,
   "id": "6a527cea-9807-44e6-91ac-a139bf6e17b4",
   "metadata": {},
   "outputs": [
    {
     "name": "stdout",
     "output_type": "stream",
     "text": [
      "LM010_Messi\n"
     ]
    }
   ],
   "source": [
    "my_ID(\"Messi\")"
   ]
  },
  {
   "cell_type": "code",
   "execution_count": 164,
   "id": "c7f73322-2fe2-497e-a2dc-9f61647c1b25",
   "metadata": {},
   "outputs": [],
   "source": [
    "# Using Lambda Function\n",
    "\n",
    "add = lambda a,b,c: print(a+b+c)"
   ]
  },
  {
   "cell_type": "code",
   "execution_count": 166,
   "id": "d3c3075a-ade3-4fc7-ab32-5a06d785fc4d",
   "metadata": {},
   "outputs": [
    {
     "name": "stdout",
     "output_type": "stream",
     "text": [
      "16\n"
     ]
    }
   ],
   "source": [
    "add(5,5,6)"
   ]
  },
  {
   "cell_type": "code",
   "execution_count": 168,
   "id": "42977513-d852-4421-ab26-16033f62bf49",
   "metadata": {},
   "outputs": [
    {
     "name": "stdout",
     "output_type": "stream",
     "text": [
      "[1, 4, 9, 16, 25]\n"
     ]
    }
   ],
   "source": [
    "# Map Function\n",
    "\n",
    "nums = [1, 2, 3, 4, 5]\n",
    "\n",
    "def sq(n):\n",
    "    return n*n\n",
    "\n",
    "# sq(2)\n",
    "\n",
    "square = map(sq, nums)\n",
    "\n",
    "print(list(square))"
   ]
  },
  {
   "cell_type": "code",
   "execution_count": 172,
   "id": "a0535fd5-55bf-4284-8f10-9f24a765dc2a",
   "metadata": {},
   "outputs": [
    {
     "name": "stdout",
     "output_type": "stream",
     "text": [
      "[('LS', 4), ('Njr', 1), ('LM', 3)]\n"
     ]
    }
   ],
   "source": [
    "# Zip Function\n",
    "\n",
    "name = [\"LS\", \"Njr\", \"LM\"]\n",
    "ID = [4, 1, 3]\n",
    "\n",
    "mapped = zip(name, ID)\n",
    "\n",
    "print(list(mapped))"
   ]
  },
  {
   "cell_type": "markdown",
   "id": "765029b0-5812-4b8a-a2ab-45e527bdad51",
   "metadata": {},
   "source": [
    "# Tuple\n",
    "They are used to store multiple items in a single variable.\n",
    "A tuple is a collection which is ordered and unchangeable.\n",
    "It is written with round brackets."
   ]
  },
  {
   "cell_type": "code",
   "execution_count": 175,
   "id": "51b796bf-fbb2-491e-97f7-93fbf681f7f8",
   "metadata": {},
   "outputs": [
    {
     "name": "stdout",
     "output_type": "stream",
     "text": [
      "('apple', 'banana', 'cherry')\n"
     ]
    }
   ],
   "source": [
    "fruits = (\"apple\", \"banana\", \"cherry\")                           # Standard Method\n",
    "print(fruits)"
   ]
  },
  {
   "cell_type": "code",
   "execution_count": 177,
   "id": "7bd9ac33-6bf2-43c3-b7cd-db39b85ba039",
   "metadata": {},
   "outputs": [
    {
     "name": "stdout",
     "output_type": "stream",
     "text": [
      "('apple', 'banana', 'cherry', 'banana')\n"
     ]
    }
   ],
   "source": [
    "fruits = (\"apple\", \"banana\", \"cherry\",\"banana\")                  # Allows Duplicates\n",
    "print(fruits)"
   ]
  },
  {
   "cell_type": "code",
   "execution_count": 179,
   "id": "aa556993-aabb-4bf3-baf6-7a0f7c9bda08",
   "metadata": {},
   "outputs": [
    {
     "data": {
      "text/plain": [
       "1"
      ]
     },
     "execution_count": 179,
     "metadata": {},
     "output_type": "execute_result"
    }
   ],
   "source": [
    "# Count() Method\n",
    "\n",
    "nums = (1, 3, 7, 8, 7, 5, 4, 6, 8, 5)\n",
    "nums.count(6)"
   ]
  },
  {
   "cell_type": "code",
   "execution_count": 181,
   "id": "7824e3a8-1b73-4bb1-8ff7-083177fc39f0",
   "metadata": {},
   "outputs": [
    {
     "data": {
      "text/plain": [
       "5"
      ]
     },
     "execution_count": 181,
     "metadata": {},
     "output_type": "execute_result"
    }
   ],
   "source": [
    "# Index() Method\n",
    "\n",
    "nums = (1, 3, 7, 8, 7, 5, 4, 6, 8, 5)\n",
    "nums.index(5)"
   ]
  },
  {
   "cell_type": "code",
   "execution_count": 185,
   "id": "6878a9ad-ccd6-4f4e-aba1-a241a7bd58e9",
   "metadata": {},
   "outputs": [
    {
     "data": {
      "text/plain": [
       "1"
      ]
     },
     "execution_count": 185,
     "metadata": {},
     "output_type": "execute_result"
    }
   ],
   "source": [
    "# Min() & Max() Method\n",
    "\n",
    "nums = (1, 3, 7, 99, 7, 5, 4, 6, 8, 5)\n",
    "min(nums)"
   ]
  },
  {
   "cell_type": "code",
   "execution_count": 187,
   "id": "fd68b941-220b-49e9-b2f4-d520c1f29a8e",
   "metadata": {},
   "outputs": [
    {
     "data": {
      "text/plain": [
       "99"
      ]
     },
     "execution_count": 187,
     "metadata": {},
     "output_type": "execute_result"
    }
   ],
   "source": [
    "max(nums)"
   ]
  },
  {
   "cell_type": "markdown",
   "id": "f1498208-0111-4338-945c-0024c940fbbf",
   "metadata": {},
   "source": [
    "# Dictionary\n",
    "Dictionaries are used to store data values in key:value pairs.\n",
    "\n",
    "A dictionary is a collection which is ordered*, changeable and do not allow duplicates."
   ]
  },
  {
   "cell_type": "code",
   "execution_count": 212,
   "id": "f7869d0f-d342-427d-9815-9bd8e026b5e5",
   "metadata": {},
   "outputs": [
    {
     "data": {
      "text/plain": [
       "1964"
      ]
     },
     "execution_count": 212,
     "metadata": {},
     "output_type": "execute_result"
    }
   ],
   "source": [
    "car = {\"brand\": \"Ford\",\"model\": \"Mustang\",\"year\": 1964}\n",
    "# Get() Method\n",
    "car.get(\"year\")"
   ]
  },
  {
   "cell_type": "code",
   "execution_count": 214,
   "id": "06f3e78c-6d1a-4eb4-812e-dfc1e80c3ddb",
   "metadata": {},
   "outputs": [
    {
     "data": {
      "text/plain": [
       "{'brand': 'Ford', 'model': 'Mustang', 'year': 1964}"
      ]
     },
     "execution_count": 214,
     "metadata": {},
     "output_type": "execute_result"
    }
   ],
   "source": [
    "car"
   ]
  },
  {
   "cell_type": "code",
   "execution_count": 196,
   "id": "a3fa6ed3-40d0-4487-8be7-bd310c5b0446",
   "metadata": {},
   "outputs": [
    {
     "data": {
      "text/plain": [
       "dict_items([('brand', 'Ford'), ('model', 'Mustang'), ('year', 1964)])"
      ]
     },
     "execution_count": 196,
     "metadata": {},
     "output_type": "execute_result"
    }
   ],
   "source": [
    "# items() Method\n",
    "car.items()"
   ]
  },
  {
   "cell_type": "code",
   "execution_count": 198,
   "id": "02ec4657-24f9-4739-b753-96d165c18838",
   "metadata": {},
   "outputs": [
    {
     "data": {
      "text/plain": [
       "dict_keys(['brand', 'model', 'year'])"
      ]
     },
     "execution_count": 198,
     "metadata": {},
     "output_type": "execute_result"
    }
   ],
   "source": [
    " # key() Method\n",
    "car.keys()"
   ]
  },
  {
   "cell_type": "code",
   "execution_count": 200,
   "id": "9769d89b-f1d9-46fb-a882-134ec79a2a82",
   "metadata": {},
   "outputs": [
    {
     "data": {
      "text/plain": [
       "dict_values(['Ford', 'Mustang', 1964])"
      ]
     },
     "execution_count": 200,
     "metadata": {},
     "output_type": "execute_result"
    }
   ],
   "source": [
    "# values() Method\n",
    "car.values()"
   ]
  },
  {
   "cell_type": "code",
   "execution_count": 202,
   "id": "1411dcbb-6ec6-4798-a58a-95b898714f8d",
   "metadata": {},
   "outputs": [
    {
     "name": "stdout",
     "output_type": "stream",
     "text": [
      "{'brand': 'Ford', 'model': 'Mustang'}\n"
     ]
    }
   ],
   "source": [
    "# pop() Method\n",
    "# car\n",
    "car.pop(\"year\")\n",
    "print(car)"
   ]
  },
  {
   "cell_type": "code",
   "execution_count": 204,
   "id": "315a2654-a616-4afd-8540-c72d6b3cab17",
   "metadata": {},
   "outputs": [
    {
     "name": "stdout",
     "output_type": "stream",
     "text": [
      "{'brand': 'Ford'}\n"
     ]
    }
   ],
   "source": [
    "# popitem() Method\n",
    "car.popitem()\n",
    "print(car)"
   ]
  },
  {
   "cell_type": "code",
   "execution_count": 206,
   "id": "4ff0b8aa-afa4-4a4e-9596-00e435734b37",
   "metadata": {},
   "outputs": [
    {
     "name": "stdout",
     "output_type": "stream",
     "text": [
      "{'brand': 'Ford', 'color': 'White'}\n"
     ]
    }
   ],
   "source": [
    "# update() Method\n",
    "\n",
    "car.update({\"color\": \"White\"})\n",
    "print(car)"
   ]
  },
  {
   "cell_type": "code",
   "execution_count": 216,
   "id": "bab4e9e8-fdaf-4b86-bb9d-e394b8a06449",
   "metadata": {},
   "outputs": [
    {
     "name": "stdout",
     "output_type": "stream",
     "text": [
      "{}\n"
     ]
    }
   ],
   "source": [
    "# clear() Method\n",
    "\n",
    "car.clear()\n",
    "print(car)"
   ]
  },
  {
   "cell_type": "markdown",
   "id": "2a1cc7cc-c383-43a5-91f0-72e36bdda270",
   "metadata": {},
   "source": [
    "# Set\n",
    "Sets are used to store multiple items in a single variable.\n",
    "\n",
    "Sets are written with curly brackets."
   ]
  },
  {
   "cell_type": "code",
   "execution_count": 221,
   "id": "deeb4117-d565-445a-9f8e-017165d306b9",
   "metadata": {},
   "outputs": [],
   "source": [
    "fruits = {\"apple\", \"banana\", \"cherry\"}"
   ]
  },
  {
   "cell_type": "code",
   "execution_count": 223,
   "id": "ee2c26e2-ca6f-433b-9190-0ac6c16af650",
   "metadata": {},
   "outputs": [
    {
     "name": "stdout",
     "output_type": "stream",
     "text": [
      "{'orange', 'cherry', 'apple', 'banana'}\n"
     ]
    }
   ],
   "source": [
    "fruits.add(\"orange\")\n",
    "print(fruits)"
   ]
  },
  {
   "cell_type": "code",
   "execution_count": 225,
   "id": "2286c7b6-bb94-415f-b9b3-86b331c8aa9e",
   "metadata": {},
   "outputs": [
    {
     "name": "stdout",
     "output_type": "stream",
     "text": [
      "{'cherry', 'apple', 'banana'}\n"
     ]
    }
   ],
   "source": [
    "fruits.pop()\n",
    "print(fruits)"
   ]
  },
  {
   "cell_type": "code",
   "execution_count": 227,
   "id": "abf441be-643c-42d6-8543-1f9e0453d71f",
   "metadata": {},
   "outputs": [
    {
     "name": "stdout",
     "output_type": "stream",
     "text": [
      "{'apple', 'banana'}\n"
     ]
    }
   ],
   "source": [
    "fruits.remove(\"cherry\")\n",
    "print(fruits)"
   ]
  },
  {
   "cell_type": "code",
   "execution_count": 229,
   "id": "daf2d325-fc61-47bf-b081-0b649221686c",
   "metadata": {},
   "outputs": [
    {
     "data": {
      "text/plain": [
       "set"
      ]
     },
     "execution_count": 229,
     "metadata": {},
     "output_type": "execute_result"
    }
   ],
   "source": [
    "type(fruits)"
   ]
  },
  {
   "cell_type": "code",
   "execution_count": 231,
   "id": "b3fc4932-2cf2-45e5-abb7-4b2052fd20a2",
   "metadata": {},
   "outputs": [
    {
     "name": "stdout",
     "output_type": "stream",
     "text": [
      "{'microsoft', 'google'}\n"
     ]
    }
   ],
   "source": [
    "fruits = {\"apple\", \"banana\", \"cherry\"}\n",
    "company = {\"google\", \"microsoft\", \"apple\"}\n",
    "\n",
    "# difference()\n",
    "\n",
    "print(company.difference(fruits))       # Output will be from LHS of dot set only"
   ]
  },
  {
   "cell_type": "code",
   "execution_count": 233,
   "id": "2c038725-0148-4ab7-8406-5a258f8446d7",
   "metadata": {},
   "outputs": [
    {
     "name": "stdout",
     "output_type": "stream",
     "text": [
      "{'apple'}\n"
     ]
    }
   ],
   "source": [
    "# intersection()\n",
    "\n",
    "print(company.intersection(fruits))      # Print common element from both the sets"
   ]
  },
  {
   "cell_type": "code",
   "execution_count": 235,
   "id": "03f2bfbd-89d3-4113-b8a9-1a673e9513b2",
   "metadata": {},
   "outputs": [
    {
     "name": "stdout",
     "output_type": "stream",
     "text": [
      "{'cherry', 'microsoft', 'apple', 'google', 'banana'}\n"
     ]
    }
   ],
   "source": [
    "# union()\n",
    "\n",
    "print(company.union(fruits))        # Combine both sets together to form new set"
   ]
  },
  {
   "cell_type": "markdown",
   "id": "e2b2539b-32c2-4580-bfdb-e5739c10ec85",
   "metadata": {},
   "source": [
    "# Numpy Array Dimensions\n",
    "\n",
    "1D Array\n",
    "\n",
    "2D Array\n",
    "\n",
    "3D Array"
   ]
  },
  {
   "cell_type": "code",
   "execution_count": 238,
   "id": "1c2fc63a-4030-4fa4-add7-23c4681d72d0",
   "metadata": {},
   "outputs": [],
   "source": [
    "import numpy as np     # importing numpy library"
   ]
  },
  {
   "cell_type": "code",
   "execution_count": 240,
   "id": "3e1d8c58-2686-47a6-9a39-c67107d83ed7",
   "metadata": {},
   "outputs": [
    {
     "data": {
      "text/plain": [
       "array(5)"
      ]
     },
     "execution_count": 240,
     "metadata": {},
     "output_type": "execute_result"
    }
   ],
   "source": [
    "A = np.array(5)        # Scalar Array\n",
    "A"
   ]
  },
  {
   "cell_type": "code",
   "execution_count": 244,
   "id": "364b2423-e46e-4e6a-8b09-03970d6b947f",
   "metadata": {},
   "outputs": [
    {
     "data": {
      "text/plain": [
       "0"
      ]
     },
     "execution_count": 244,
     "metadata": {},
     "output_type": "execute_result"
    }
   ],
   "source": [
    "np.ndim(A)               # Dimension method"
   ]
  },
  {
   "cell_type": "code",
   "execution_count": 246,
   "id": "215a1d8f-ecca-45b2-9e63-e96ef5a954e3",
   "metadata": {},
   "outputs": [],
   "source": [
    "One = np.array([1, 2, 3, 4, 5])\n",
    "Two = np.array([[1, 2, 3], [4, 5, 6]])\n",
    "Three = np.array([[[1, 2, 3], [4, 5, 6]],\n",
    "                 [[7, 8, 9], [10, 11, 12]]])"
   ]
  },
  {
   "cell_type": "code",
   "execution_count": 248,
   "id": "06e14b4c-0c97-418d-bfe6-f4f266387604",
   "metadata": {},
   "outputs": [
    {
     "data": {
      "text/plain": [
       "array([[[ 1,  2,  3],\n",
       "        [ 4,  5,  6]],\n",
       "\n",
       "       [[ 7,  8,  9],\n",
       "        [10, 11, 12]]])"
      ]
     },
     "execution_count": 248,
     "metadata": {},
     "output_type": "execute_result"
    }
   ],
   "source": [
    "Three"
   ]
  },
  {
   "cell_type": "code",
   "execution_count": 250,
   "id": "e3119509-e597-4864-b778-f9f473774056",
   "metadata": {},
   "outputs": [
    {
     "data": {
      "text/plain": [
       "3"
      ]
     },
     "execution_count": 250,
     "metadata": {},
     "output_type": "execute_result"
    }
   ],
   "source": [
    "Three.shape\n",
    "np.ndim(Three)"
   ]
  },
  {
   "cell_type": "code",
   "execution_count": 252,
   "id": "4e887d3c-d37c-4f6f-8e78-bafeeff42aef",
   "metadata": {},
   "outputs": [
    {
     "data": {
      "text/plain": [
       "3"
      ]
     },
     "execution_count": 252,
     "metadata": {},
     "output_type": "execute_result"
    }
   ],
   "source": [
    "np.ndim(One)\n",
    "np.ndim(Two)\n",
    "np.ndim(Three)"
   ]
  },
  {
   "cell_type": "markdown",
   "id": "cdcaeee8-b020-4973-8596-e0adb77450e7",
   "metadata": {},
   "source": [
    "# List vs Numpy Array"
   ]
  },
  {
   "cell_type": "code",
   "execution_count": 255,
   "id": "ed20f34e-3b13-48f4-b7f3-d8067b73c581",
   "metadata": {},
   "outputs": [],
   "source": [
    "list1 = [1,4.0,'apple']                     # List - Different Datatypes\n",
    "arr = np.array([1, 2, 3, 4, 5])             # Array - Similar Datatypes"
   ]
  },
  {
   "cell_type": "code",
   "execution_count": 257,
   "id": "d4799f54-079c-4526-b15c-d5ecfd5dd7cc",
   "metadata": {},
   "outputs": [
    {
     "data": {
      "text/plain": [
       "array([1, 2, 3, 4, 5])"
      ]
     },
     "execution_count": 257,
     "metadata": {},
     "output_type": "execute_result"
    }
   ],
   "source": [
    "arr"
   ]
  },
  {
   "cell_type": "code",
   "execution_count": 259,
   "id": "888ebaa9-b161-457b-a98b-d1fab97a3b6f",
   "metadata": {},
   "outputs": [],
   "source": [
    "arr = np.array([1, 2, 3.9, 'apple'])        # Type Conversion"
   ]
  },
  {
   "cell_type": "code",
   "execution_count": 261,
   "id": "eba1e76e-4d50-4754-8c98-d117081eebbd",
   "metadata": {},
   "outputs": [
    {
     "data": {
      "text/plain": [
       "array(['1', '2', '3.9', 'apple'], dtype='<U32')"
      ]
     },
     "execution_count": 261,
     "metadata": {},
     "output_type": "execute_result"
    }
   ],
   "source": [
    "arr"
   ]
  },
  {
   "cell_type": "markdown",
   "id": "bd92afe4-2296-4158-9d05-88149c35ef2c",
   "metadata": {},
   "source": [
    "# More Advantages of Numpy Array over list\n",
    "\n",
    "*   Array consumes less memory\n",
    "*   Array are faster than lists"
   ]
  },
  {
   "cell_type": "markdown",
   "id": "89b6c00e-3317-4ea8-92f4-503c44a0b3e9",
   "metadata": {},
   "source": [
    "# Reshaping arrays\n",
    "\n",
    "Reshaping means changing the shape of an array."
   ]
  },
  {
   "cell_type": "code",
   "execution_count": 269,
   "id": "23854db4-2735-47ab-9eda-1a11cbfbb849",
   "metadata": {},
   "outputs": [],
   "source": [
    "arr = np.array([1, 2, 3, 4, 5, 6, 7, 8, 9, 10, 11, 12])   # 1D Array\n",
    "\n",
    "# 1D to 2D Array\n",
    "newarr = arr.reshape(3, 4)\n"
   ]
  },
  {
   "cell_type": "code",
   "execution_count": 271,
   "id": "8c2667d8-4b3e-4334-8c56-a0f50e200dd3",
   "metadata": {},
   "outputs": [
    {
     "name": "stdout",
     "output_type": "stream",
     "text": [
      "[[ 1  2  3  4]\n",
      " [ 5  6  7  8]\n",
      " [ 9 10 11 12]]\n"
     ]
    }
   ],
   "source": [
    "print(newarr)"
   ]
  },
  {
   "cell_type": "code",
   "execution_count": 277,
   "id": "7d46469b-af7e-4203-9924-2af76a9c74fe",
   "metadata": {},
   "outputs": [],
   "source": [
    "# 1D to 3D Array\n",
    "\n",
    "newarr = arr.reshape(2, 3, 2)    # x,y,z: x = matrix, y = rows, z = cols"
   ]
  },
  {
   "cell_type": "code",
   "execution_count": 279,
   "id": "1eb0b0eb-8899-4fce-be2c-93410dddee52",
   "metadata": {},
   "outputs": [
    {
     "name": "stdout",
     "output_type": "stream",
     "text": [
      "[[[ 1  2]\n",
      "  [ 3  4]\n",
      "  [ 5  6]]\n",
      "\n",
      " [[ 7  8]\n",
      "  [ 9 10]\n",
      "  [11 12]]]\n"
     ]
    }
   ],
   "source": [
    "print(newarr)"
   ]
  },
  {
   "cell_type": "markdown",
   "id": "2f6694c9-3955-462c-ae1b-07d828fb7972",
   "metadata": {},
   "source": [
    "# Array Indexing\n",
    "\n",
    "Array indexing is the same as accessing an array element.\n",
    "You can access an array element by referring to its index number."
   ]
  },
  {
   "cell_type": "code",
   "execution_count": 282,
   "id": "aa4a38a7-f937-477a-93bf-cfcfa6843529",
   "metadata": {},
   "outputs": [
    {
     "name": "stdout",
     "output_type": "stream",
     "text": [
      "4\n"
     ]
    }
   ],
   "source": [
    "arr = np.array([1, 2, 3, 4])              # Accessing 1D Array\n",
    "\n",
    "print(arr[3])"
   ]
  },
  {
   "cell_type": "code",
   "execution_count": 284,
   "id": "1f93d634-c8ab-47d2-86e4-857cb6909724",
   "metadata": {},
   "outputs": [
    {
     "name": "stdout",
     "output_type": "stream",
     "text": [
      "3\n"
     ]
    }
   ],
   "source": [
    "print(arr[0] + arr[1])                 # Addition of 2 elements"
   ]
  },
  {
   "cell_type": "code",
   "execution_count": 286,
   "id": "7d4fda79-d691-468b-9845-a971843fd0f3",
   "metadata": {},
   "outputs": [
    {
     "name": "stdout",
     "output_type": "stream",
     "text": [
      "9\n"
     ]
    }
   ],
   "source": [
    "arr = np.array([[1,2,3,4,5], [6,7,8,9,10]])  # Accessing 2D Array\n",
    "arr.shape\n",
    "\n",
    "# print(arr[0, 3])                          # 1st row 4th element\n",
    "# print(arr[1, 1])                          # 2nd row 5th element\n",
    "print(arr[1,3])"
   ]
  },
  {
   "cell_type": "code",
   "execution_count": 288,
   "id": "2e7b4f37-4d72-43cc-ba67-e24b4539414a",
   "metadata": {},
   "outputs": [
    {
     "data": {
      "text/plain": [
       "array([[ 1,  2,  3,  4,  5],\n",
       "       [ 6,  7,  8,  9, 10]])"
      ]
     },
     "execution_count": 288,
     "metadata": {},
     "output_type": "execute_result"
    }
   ],
   "source": [
    "arr"
   ]
  },
  {
   "cell_type": "code",
   "execution_count": 290,
   "id": "88ba6a26-6226-44f5-a055-360597bebfca",
   "metadata": {},
   "outputs": [
    {
     "name": "stdout",
     "output_type": "stream",
     "text": [
      "4\n"
     ]
    }
   ],
   "source": [
    "arr3 = np.array([[[1, 2, 3], [4, 5, 6]], [[7, 8, 9], [10, 11, 12]]])   # Accessing 3D Array\n",
    "\n",
    "arr3.shape\n",
    "# print(arr3)\n",
    "# print(arr3[0, 0, 2])               # 1st matrix, 1st row, 3rd column\n",
    "# print(arr3[1, 1, 1])               # 1st matrix, 2nd row, 1st column\n",
    "print(arr3[0,1,0])"
   ]
  },
  {
   "cell_type": "code",
   "execution_count": 292,
   "id": "eb5ec8b4-8d32-46cc-90d4-6cfb7b5b9a57",
   "metadata": {},
   "outputs": [
    {
     "name": "stdout",
     "output_type": "stream",
     "text": [
      "[[[ 1  2  3]\n",
      "  [ 4  5  6]]\n",
      "\n",
      " [[ 7  8  9]\n",
      "  [10 11 12]]]\n"
     ]
    }
   ],
   "source": [
    "print(arr3)"
   ]
  },
  {
   "cell_type": "markdown",
   "id": "25019d31-2a0d-4ada-a317-8f2c66656aa5",
   "metadata": {},
   "source": [
    "## Slicing arrays\n",
    "Slicing in python means taking elements from one given index to another given index.\n",
    "\n",
    "We pass slice instead of index like this: [start:end].\n",
    "\n",
    "We can also define the step, like this: [start:end:step]."
   ]
  },
  {
   "cell_type": "code",
   "execution_count": 295,
   "id": "f90dac28-0eb3-495a-ae02-07f16993439e",
   "metadata": {},
   "outputs": [
    {
     "name": "stdout",
     "output_type": "stream",
     "text": [
      "[2 3 4 5]\n",
      "5\n"
     ]
    },
    {
     "data": {
      "text/plain": [
       "array([1, 2, 3, 4])"
      ]
     },
     "execution_count": 295,
     "metadata": {},
     "output_type": "execute_result"
    }
   ],
   "source": [
    "import numpy as np\n",
    "\n",
    "a1 = np.array([1, 2, 3, 4, 5, 6, 7])             # Slicing 1D Array\n",
    "\n",
    "print(a1[1:5])     # Slicing                                  # [start:end]\n",
    "print(a1[4])     # Indexing\n",
    "a1[:4]"
   ]
  },
  {
   "cell_type": "code",
   "execution_count": 297,
   "id": "0484dfbd-46bf-4e0d-99d4-882efa1d089c",
   "metadata": {},
   "outputs": [
    {
     "data": {
      "text/plain": [
       "array([3, 8])"
      ]
     },
     "execution_count": 297,
     "metadata": {},
     "output_type": "execute_result"
    }
   ],
   "source": [
    "a2 = np.array([[1, 2, 3, 4, 5], [6, 7, 8, 9, 10]])      # Slicing 2D Array\n",
    "\n",
    "a2[1, 1:4]                                            # [row:column]\n",
    "a2[0:2, 2]\n",
    "# a2[1:, :5]"
   ]
  },
  {
   "cell_type": "code",
   "execution_count": 299,
   "id": "4f4cbe0f-5860-4005-a3e6-1281351a6cb8",
   "metadata": {},
   "outputs": [
    {
     "data": {
      "text/plain": [
       "(2, 5)"
      ]
     },
     "execution_count": 299,
     "metadata": {},
     "output_type": "execute_result"
    }
   ],
   "source": [
    "a2.shape"
   ]
  },
  {
   "cell_type": "code",
   "execution_count": 301,
   "id": "99d26707-e120-4f7f-8dfa-b7dc11a97ec5",
   "metadata": {},
   "outputs": [],
   "source": [
    "a3 = np.array([[[10, 11, 12], [13, 14, 15], [16, 17, 18]],\n",
    "               [[20, 21, 22], [23, 24, 25], [26, 27, 28]],\n",
    "               [[30, 31, 32], [33, 34, 35], [36, 37, 38]]])           # # Slicing 3D Array"
   ]
  },
  {
   "cell_type": "code",
   "execution_count": 303,
   "id": "075edd06-9ff0-41c7-8057-8a4c645e0e51",
   "metadata": {},
   "outputs": [
    {
     "data": {
      "text/plain": [
       "array([[[13, 14, 15],\n",
       "        [16, 17, 18]],\n",
       "\n",
       "       [[23, 24, 25],\n",
       "        [26, 27, 28]]])"
      ]
     },
     "execution_count": 303,
     "metadata": {},
     "output_type": "execute_result"
    }
   ],
   "source": [
    "a3[:2,1:,:]"
   ]
  },
  {
   "cell_type": "markdown",
   "id": "d964a129-3d5b-4918-a26e-726dbb88b8a9",
   "metadata": {},
   "source": [
    "# View vs Copy\n",
    "\n",
    "Copy is a new array, and the View is just a view of the original array.\n",
    "\n",
    "Any changes made to the **copy** will not affect original array.\n",
    "\n",
    "Any changes made to the **view** will affect the original array."
   ]
  },
  {
   "cell_type": "code",
   "execution_count": 306,
   "id": "a2fa16c3-8829-4986-8d94-2152d5284823",
   "metadata": {},
   "outputs": [
    {
     "name": "stdout",
     "output_type": "stream",
     "text": [
      "[1 2 3 4 5]\n",
      "[42  2  3  4  5]\n"
     ]
    }
   ],
   "source": [
    "arr = np.array([1, 2, 3, 4, 5])\n",
    "\n",
    "# Copy Method\n",
    "\n",
    "copy = arr.copy()\n",
    "copy[0] = 42\n",
    "\n",
    "print(arr)\n",
    "print(copy)"
   ]
  },
  {
   "cell_type": "code",
   "execution_count": 308,
   "id": "77cec42a-ac52-4519-bf04-09663f974efc",
   "metadata": {},
   "outputs": [
    {
     "name": "stdout",
     "output_type": "stream",
     "text": [
      "[42  2  3  4  5]\n",
      "[42  2  3  4  5]\n"
     ]
    }
   ],
   "source": [
    "# View Method\n",
    "\n",
    "view = arr.view()\n",
    "view[0] = 42\n",
    "\n",
    "print(arr)\n",
    "print(view)"
   ]
  },
  {
   "cell_type": "markdown",
   "id": "10918199-acbb-4f50-be00-b11a4c40353b",
   "metadata": {},
   "source": [
    "# Append , Insert and Delete Operations"
   ]
  },
  {
   "cell_type": "code",
   "execution_count": 311,
   "id": "31b7598a-c914-4a5f-b485-c02b10118764",
   "metadata": {},
   "outputs": [
    {
     "data": {
      "text/plain": [
       "array([[1, 2, 3, 5],\n",
       "       [4, 5, 6, 8]])"
      ]
     },
     "execution_count": 311,
     "metadata": {},
     "output_type": "execute_result"
    }
   ],
   "source": [
    "a = np.array([[1,2,3],\n",
    "              [4,5,6]])\n",
    "a.shape\n",
    "# Append Method\n",
    "\n",
    "np.append(a, [7,8,9])\n",
    "np.append(a, [[7,8,9]],axis = 0)                # axis = 0 = row , axis = 1 = col\n",
    "np.append(a, [[5],[8]],axis = 1)"
   ]
  },
  {
   "cell_type": "code",
   "execution_count": 313,
   "id": "dc979e55-803c-43fc-b3dd-e3ec92145cb8",
   "metadata": {},
   "outputs": [
    {
     "data": {
      "text/plain": [
       "array([[ 1,  2],\n",
       "       [11, 12],\n",
       "       [ 3,  4],\n",
       "       [ 5,  6]])"
      ]
     },
     "execution_count": 313,
     "metadata": {},
     "output_type": "execute_result"
    }
   ],
   "source": [
    "a = np.array([[1,2],\n",
    "              [3,4],\n",
    "              [5,6]])\n",
    "\n",
    "# Insert Method\n",
    "\n",
    "np.insert(a,3,[11,12])\n",
    "np.insert(a,1,[11,12],axis = 0)\n",
    "# np.insert(a,1,[11,12,13],axis = 1)"
   ]
  },
  {
   "cell_type": "code",
   "execution_count": 315,
   "id": "be9b4e02-21c0-42b5-ae7c-641447f21042",
   "metadata": {},
   "outputs": [
    {
     "data": {
      "text/plain": [
       "array([[ 1,  2,  3, 12],\n",
       "       [ 8,  4, 10,  7]])"
      ]
     },
     "execution_count": 315,
     "metadata": {},
     "output_type": "execute_result"
    }
   ],
   "source": [
    "a = np.array([[ 1,  2,  3, 12],\n",
    "              [ 9,  5,  6,  11],\n",
    "              [ 8,  4, 10, 7]])\n",
    "\n",
    "# Delete Method\n",
    "\n",
    "# np.delete(a,4)\n",
    "# np.delete(a,1,axis = 1)\n",
    "np.delete(a,1,axis = 0)"
   ]
  },
  {
   "cell_type": "code",
   "execution_count": 317,
   "id": "85759375-5986-438c-8721-cf1846b6e568",
   "metadata": {},
   "outputs": [
    {
     "data": {
      "text/plain": [
       "2"
      ]
     },
     "execution_count": 317,
     "metadata": {},
     "output_type": "execute_result"
    }
   ],
   "source": [
    "np.ndim(a)"
   ]
  },
  {
   "cell_type": "markdown",
   "id": "b4701e1a-3259-4bb4-bb57-cff6c377e540",
   "metadata": {},
   "source": [
    "# Hstack vs Vstack\n",
    "\n",
    "Hstack is used to join two arrays **Horizontally**.\n",
    "\n",
    "Vstack is used to join two arrays **Vertically**."
   ]
  },
  {
   "cell_type": "code",
   "execution_count": 326,
   "id": "85df4502-b6ee-476e-b48e-4822384eb8f0",
   "metadata": {},
   "outputs": [],
   "source": [
    "import numpy as np"
   ]
  },
  {
   "cell_type": "code",
   "execution_count": 332,
   "id": "b7b0360c-a9e7-444a-999f-99d5da5fbf00",
   "metadata": {},
   "outputs": [],
   "source": [
    "a = np.array([1, 2, 3])\n",
    "b = np.array([4, 5, 6])"
   ]
  },
  {
   "cell_type": "code",
   "execution_count": 334,
   "id": "1a4f1e93-cc0c-4ece-9aad-1a04158d295a",
   "metadata": {},
   "outputs": [
    {
     "name": "stdout",
     "output_type": "stream",
     "text": [
      "[1 2 3] [4 5 6]\n",
      "1 1\n"
     ]
    }
   ],
   "source": [
    "print(a,b)\n",
    "print(np.ndim(a), np.ndim(b))"
   ]
  },
  {
   "cell_type": "code",
   "execution_count": 336,
   "id": "e93ffe70-c42a-4b83-be18-3392df4df03c",
   "metadata": {},
   "outputs": [
    {
     "name": "stdout",
     "output_type": "stream",
     "text": [
      "[1 2 3 4 5 6]\n",
      "1\n"
     ]
    }
   ],
   "source": [
    "# Performing Hstack\n",
    "\n",
    "result = np.hstack((a,b))\n",
    "\n",
    "print(result)\n",
    "print(np.ndim(result))"
   ]
  },
  {
   "cell_type": "code",
   "execution_count": 338,
   "id": "0c671243-f527-4b1c-825b-54923ebc0bb2",
   "metadata": {},
   "outputs": [
    {
     "name": "stdout",
     "output_type": "stream",
     "text": [
      "[[1 2 3]\n",
      " [4 5 6]] 2\n"
     ]
    }
   ],
   "source": [
    "# Performing Vstack\n",
    "\n",
    "result = np.vstack((a,b))\n",
    "print(result, np.ndim(result))"
   ]
  },
  {
   "cell_type": "markdown",
   "id": "f96ef094-cc2b-467d-9101-cfcfc9e1f059",
   "metadata": {},
   "source": [
    "# Numpy Concatenation\n",
    "\n",
    "It is used for joining two or more arrays of the same shape along a specified axis.\n",
    "\n",
    "Axis = 0, Adding new rows\n",
    "\n",
    "Axis = 1, Adding new columns"
   ]
  },
  {
   "cell_type": "code",
   "execution_count": 343,
   "id": "9718b671-7710-4026-bf90-1912237837f4",
   "metadata": {},
   "outputs": [
    {
     "name": "stdout",
     "output_type": "stream",
     "text": [
      "(2, 1) (2, 1)\n"
     ]
    }
   ],
   "source": [
    "arr1 = np.array([[2, 4], [6, 8]])\n",
    "arr2 = np.array([[3, 5], [7, 9]])\n",
    "\n",
    "# print(arr1.shape,arr2.shape)\n",
    "\n",
    "arr3 = np.array([[3], [9]])\n",
    "arr4 = np.array([[4] , [8]])\n",
    "\n",
    "print(arr3.shape,arr4.shape)\n",
    "\n",
    "new = np.concatenate((arr1, arr2), axis = 0)\n",
    "\n",
    "#print(new, new.shape)"
   ]
  },
  {
   "cell_type": "code",
   "execution_count": 345,
   "id": "c52de1b4-9103-4e72-a384-fccdf3e26f76",
   "metadata": {},
   "outputs": [
    {
     "name": "stdout",
     "output_type": "stream",
     "text": [
      "[[3 4]\n",
      " [9 8]]\n"
     ]
    }
   ],
   "source": [
    "new = np.concatenate((arr3, arr4), axis = 1)\n",
    "\n",
    "print(new)"
   ]
  },
  {
   "cell_type": "markdown",
   "id": "cfdd78b3-8dcc-4376-a415-31c3cd5f2c64",
   "metadata": {},
   "source": [
    "# Pandas Series\n",
    "\n",
    "A Pandas Series is like a column in a table.\n",
    "It is a one-dimensional array holding data of any type."
   ]
  },
  {
   "cell_type": "code",
   "execution_count": 348,
   "id": "cb93c1cf-9596-4930-9aaf-d856c8a8659d",
   "metadata": {},
   "outputs": [],
   "source": [
    "import pandas as pd"
   ]
  },
  {
   "cell_type": "code",
   "execution_count": 350,
   "id": "89a4f7a1-09b1-4aba-bc89-5409a5260d7c",
   "metadata": {},
   "outputs": [
    {
     "name": "stdout",
     "output_type": "stream",
     "text": [
      "0    1\n",
      "1    7\n",
      "2    2\n",
      "3    8\n",
      "4    5\n",
      "dtype: int64\n"
     ]
    }
   ],
   "source": [
    "# Series Method\n",
    "\n",
    "series = pd.Series([1, 7, 2, 8, 5])\n",
    "\n",
    "print(series)"
   ]
  },
  {
   "cell_type": "code",
   "execution_count": 352,
   "id": "763b8228-938b-4c85-88a7-c71d58304004",
   "metadata": {},
   "outputs": [
    {
     "name": "stdout",
     "output_type": "stream",
     "text": [
      "a    1\n",
      "b    7\n",
      "c    2\n",
      "d    8\n",
      "e    5\n",
      "dtype: int64\n"
     ]
    }
   ],
   "source": [
    "# Series Method with Index\n",
    "\n",
    "series = pd.Series([1, 7, 2, 8, 5], index = [\"a\", \"b\", \"c\",\"d\",\"e\"])\n",
    "\n",
    "print(series)"
   ]
  },
  {
   "cell_type": "code",
   "execution_count": 356,
   "id": "c7a0428c-271e-4c81-83df-a29692d382e8",
   "metadata": {},
   "outputs": [
    {
     "name": "stdout",
     "output_type": "stream",
     "text": [
      "2\n",
      "2\n"
     ]
    },
    {
     "name": "stderr",
     "output_type": "stream",
     "text": [
      "C:\\Users\\ajint\\AppData\\Local\\Temp\\ipykernel_3152\\4006098312.py:3: FutureWarning: Series.__getitem__ treating keys as positions is deprecated. In a future version, integer keys will always be treated as labels (consistent with DataFrame behavior). To access a value by position, use `ser.iloc[pos]`\n",
      "  print(series[2])\n"
     ]
    }
   ],
   "source": [
    "# Accessing Series elements\n",
    "\n",
    "print(series[2])\n",
    "print(series[\"c\"])"
   ]
  },
  {
   "cell_type": "markdown",
   "id": "8ee26e40-7869-4d41-907f-3c2e119e28b5",
   "metadata": {},
   "source": [
    "# Pandas DataFrame\n",
    "\n",
    "A Data frame is a two-dimensional data structure, i.e., data is aligned in a tabular fashion in rows and columns."
   ]
  },
  {
   "cell_type": "code",
   "execution_count": 359,
   "id": "bccdc3d5-23d2-4e9f-9ddc-e133dba1cd6b",
   "metadata": {},
   "outputs": [
    {
     "name": "stdout",
     "output_type": "stream",
     "text": [
      "   0\n",
      "0  1\n",
      "1  2\n",
      "2  3\n",
      "3  4\n",
      "4  5\n"
     ]
    }
   ],
   "source": [
    "# DataFrame Method on list\n",
    "\n",
    "data = pd.DataFrame([1,2,3,4,5])\n",
    "print(data)"
   ]
  },
  {
   "cell_type": "code",
   "execution_count": 361,
   "id": "7c770bb8-223b-404a-8050-593e0c7041b7",
   "metadata": {},
   "outputs": [
    {
     "data": {
      "text/html": [
       "<div>\n",
       "<style scoped>\n",
       "    .dataframe tbody tr th:only-of-type {\n",
       "        vertical-align: middle;\n",
       "    }\n",
       "\n",
       "    .dataframe tbody tr th {\n",
       "        vertical-align: top;\n",
       "    }\n",
       "\n",
       "    .dataframe thead th {\n",
       "        text-align: right;\n",
       "    }\n",
       "</style>\n",
       "<table border=\"1\" class=\"dataframe\">\n",
       "  <thead>\n",
       "    <tr style=\"text-align: right;\">\n",
       "      <th></th>\n",
       "      <th>Name</th>\n",
       "      <th>Age</th>\n",
       "    </tr>\n",
       "  </thead>\n",
       "  <tbody>\n",
       "    <tr>\n",
       "      <th>0</th>\n",
       "      <td>Tom</td>\n",
       "      <td>28</td>\n",
       "    </tr>\n",
       "    <tr>\n",
       "      <th>1</th>\n",
       "      <td>Jack</td>\n",
       "      <td>34</td>\n",
       "    </tr>\n",
       "    <tr>\n",
       "      <th>2</th>\n",
       "      <td>Steve</td>\n",
       "      <td>29</td>\n",
       "    </tr>\n",
       "    <tr>\n",
       "      <th>3</th>\n",
       "      <td>Ricky</td>\n",
       "      <td>42</td>\n",
       "    </tr>\n",
       "    <tr>\n",
       "      <th>4</th>\n",
       "      <td>Sam</td>\n",
       "      <td>17</td>\n",
       "    </tr>\n",
       "    <tr>\n",
       "      <th>5</th>\n",
       "      <td>Will</td>\n",
       "      <td>17</td>\n",
       "    </tr>\n",
       "    <tr>\n",
       "      <th>6</th>\n",
       "      <td>Root</td>\n",
       "      <td>45</td>\n",
       "    </tr>\n",
       "  </tbody>\n",
       "</table>\n",
       "</div>"
      ],
      "text/plain": [
       "    Name  Age\n",
       "0    Tom   28\n",
       "1   Jack   34\n",
       "2  Steve   29\n",
       "3  Ricky   42\n",
       "4    Sam   17\n",
       "5   Will   17\n",
       "6   Root   45"
      ]
     },
     "execution_count": 361,
     "metadata": {},
     "output_type": "execute_result"
    }
   ],
   "source": [
    "# DataFrame using Dictionary\n",
    "\n",
    "data = pd.DataFrame({'Name':['Tom', 'Jack', 'Steve', 'Ricky','Sam','Will','Root'],\n",
    "                     'Age':[28,34,29,42,17,17,45]})\n",
    "data.head(10)"
   ]
  },
  {
   "cell_type": "code",
   "execution_count": null,
   "id": "bc92e057-2a79-4c8d-b92c-0bc2e81be722",
   "metadata": {},
   "outputs": [],
   "source": [
    "# data.head(5)"
   ]
  },
  {
   "cell_type": "code",
   "execution_count": 363,
   "id": "22ef98db-e299-4f59-b577-720bcfcc6f32",
   "metadata": {},
   "outputs": [
    {
     "data": {
      "text/html": [
       "<div>\n",
       "<style scoped>\n",
       "    .dataframe tbody tr th:only-of-type {\n",
       "        vertical-align: middle;\n",
       "    }\n",
       "\n",
       "    .dataframe tbody tr th {\n",
       "        vertical-align: top;\n",
       "    }\n",
       "\n",
       "    .dataframe thead th {\n",
       "        text-align: right;\n",
       "    }\n",
       "</style>\n",
       "<table border=\"1\" class=\"dataframe\">\n",
       "  <thead>\n",
       "    <tr style=\"text-align: right;\">\n",
       "      <th></th>\n",
       "      <th>Name</th>\n",
       "      <th>Age</th>\n",
       "    </tr>\n",
       "  </thead>\n",
       "  <tbody>\n",
       "    <tr>\n",
       "      <th>C1</th>\n",
       "      <td>Tom</td>\n",
       "      <td>28</td>\n",
       "    </tr>\n",
       "    <tr>\n",
       "      <th>C2</th>\n",
       "      <td>Jack</td>\n",
       "      <td>34</td>\n",
       "    </tr>\n",
       "    <tr>\n",
       "      <th>C3</th>\n",
       "      <td>Steve</td>\n",
       "      <td>29</td>\n",
       "    </tr>\n",
       "    <tr>\n",
       "      <th>C4</th>\n",
       "      <td>Ricky</td>\n",
       "      <td>42</td>\n",
       "    </tr>\n",
       "    <tr>\n",
       "      <th>C5</th>\n",
       "      <td>Sam</td>\n",
       "      <td>17</td>\n",
       "    </tr>\n",
       "    <tr>\n",
       "      <th>C6</th>\n",
       "      <td>Will</td>\n",
       "      <td>17</td>\n",
       "    </tr>\n",
       "    <tr>\n",
       "      <th>C7</th>\n",
       "      <td>Root</td>\n",
       "      <td>45</td>\n",
       "    </tr>\n",
       "  </tbody>\n",
       "</table>\n",
       "</div>"
      ],
      "text/plain": [
       "     Name  Age\n",
       "C1    Tom   28\n",
       "C2   Jack   34\n",
       "C3  Steve   29\n",
       "C4  Ricky   42\n",
       "C5    Sam   17\n",
       "C6   Will   17\n",
       "C7   Root   45"
      ]
     },
     "execution_count": 363,
     "metadata": {},
     "output_type": "execute_result"
    }
   ],
   "source": [
    "# DataFrame with Index\n",
    "\n",
    "data = pd.DataFrame({'Name':['Tom', 'Jack', 'Steve', 'Ricky','Sam','Will','Root'],\n",
    "                     'Age':[28,34,29,42,17,17,45]}, index=['C1','C2','C3','C4','C5','C6','C7'])\n",
    "data.head(10)"
   ]
  },
  {
   "cell_type": "code",
   "execution_count": 365,
   "id": "d8594faa-200f-474b-9b01-80477a55eda8",
   "metadata": {},
   "outputs": [
    {
     "data": {
      "text/plain": [
       "C1    28\n",
       "C2    34\n",
       "C3    29\n",
       "C4    42\n",
       "C5    17\n",
       "C6    17\n",
       "C7    45\n",
       "Name: Age, dtype: int64"
      ]
     },
     "execution_count": 365,
     "metadata": {},
     "output_type": "execute_result"
    }
   ],
   "source": [
    "# Column Selection\n",
    "\n",
    "# data['Name']\n",
    "data['Age']"
   ]
  },
  {
   "cell_type": "code",
   "execution_count": 367,
   "id": "fef7e6e7-4437-4024-9369-7634b0a7b3a1",
   "metadata": {},
   "outputs": [
    {
     "data": {
      "text/html": [
       "<div>\n",
       "<style scoped>\n",
       "    .dataframe tbody tr th:only-of-type {\n",
       "        vertical-align: middle;\n",
       "    }\n",
       "\n",
       "    .dataframe tbody tr th {\n",
       "        vertical-align: top;\n",
       "    }\n",
       "\n",
       "    .dataframe thead th {\n",
       "        text-align: right;\n",
       "    }\n",
       "</style>\n",
       "<table border=\"1\" class=\"dataframe\">\n",
       "  <thead>\n",
       "    <tr style=\"text-align: right;\">\n",
       "      <th></th>\n",
       "      <th>Name</th>\n",
       "      <th>Age</th>\n",
       "    </tr>\n",
       "  </thead>\n",
       "  <tbody>\n",
       "    <tr>\n",
       "      <th>C1</th>\n",
       "      <td>Tom</td>\n",
       "      <td>28</td>\n",
       "    </tr>\n",
       "    <tr>\n",
       "      <th>C2</th>\n",
       "      <td>Jack</td>\n",
       "      <td>34</td>\n",
       "    </tr>\n",
       "    <tr>\n",
       "      <th>C3</th>\n",
       "      <td>Steve</td>\n",
       "      <td>29</td>\n",
       "    </tr>\n",
       "    <tr>\n",
       "      <th>C4</th>\n",
       "      <td>Ricky</td>\n",
       "      <td>42</td>\n",
       "    </tr>\n",
       "    <tr>\n",
       "      <th>C5</th>\n",
       "      <td>Sam</td>\n",
       "      <td>17</td>\n",
       "    </tr>\n",
       "    <tr>\n",
       "      <th>C6</th>\n",
       "      <td>Will</td>\n",
       "      <td>17</td>\n",
       "    </tr>\n",
       "    <tr>\n",
       "      <th>C7</th>\n",
       "      <td>Root</td>\n",
       "      <td>45</td>\n",
       "    </tr>\n",
       "  </tbody>\n",
       "</table>\n",
       "</div>"
      ],
      "text/plain": [
       "     Name  Age\n",
       "C1    Tom   28\n",
       "C2   Jack   34\n",
       "C3  Steve   29\n",
       "C4  Ricky   42\n",
       "C5    Sam   17\n",
       "C6   Will   17\n",
       "C7   Root   45"
      ]
     },
     "execution_count": 367,
     "metadata": {},
     "output_type": "execute_result"
    }
   ],
   "source": [
    "data.head(10)"
   ]
  },
  {
   "cell_type": "code",
   "execution_count": 369,
   "id": "34efb3a7-2439-4a34-8576-5fb031763eb5",
   "metadata": {},
   "outputs": [
    {
     "data": {
      "text/plain": [
       "'Ricky'"
      ]
     },
     "execution_count": 369,
     "metadata": {},
     "output_type": "execute_result"
    }
   ],
   "source": [
    "# Row Selection\n",
    "\n",
    "# data.loc['C4','Age']\n",
    "data.iloc[3,0]"
   ]
  },
  {
   "cell_type": "markdown",
   "id": "f9a2c1c6-7537-4bd4-94ae-b06cf28e1017",
   "metadata": {},
   "source": [
    "# Pandas Concatenation\n",
    "\n",
    "It is used to concatenate pandas objects along a particular axis with optional set logic along the other axes."
   ]
  },
  {
   "cell_type": "code",
   "execution_count": 372,
   "id": "fa96f2bf-9614-443e-ac25-1747f066ec34",
   "metadata": {},
   "outputs": [],
   "source": [
    "names = pd.DataFrame({'Name':['Tom', 'Jack', 'Steve', 'Ricky','Sam','Will','Root']})\n",
    "ages = pd.DataFrame({'Age':[28,34,29,42,17,17,45]})"
   ]
  },
  {
   "cell_type": "code",
   "execution_count": 374,
   "id": "08ab4e5d-8888-4e04-a7fc-8b085beda450",
   "metadata": {},
   "outputs": [],
   "source": [
    "names2 = pd.DataFrame({'Name':['Joe', 'Pope', 'Buttler', 'Ben','James','Cook']})"
   ]
  },
  {
   "cell_type": "code",
   "execution_count": 376,
   "id": "fd4cbdb6-793c-4b92-8cb9-8252c03f643f",
   "metadata": {},
   "outputs": [
    {
     "data": {
      "text/html": [
       "<div>\n",
       "<style scoped>\n",
       "    .dataframe tbody tr th:only-of-type {\n",
       "        vertical-align: middle;\n",
       "    }\n",
       "\n",
       "    .dataframe tbody tr th {\n",
       "        vertical-align: top;\n",
       "    }\n",
       "\n",
       "    .dataframe thead th {\n",
       "        text-align: right;\n",
       "    }\n",
       "</style>\n",
       "<table border=\"1\" class=\"dataframe\">\n",
       "  <thead>\n",
       "    <tr style=\"text-align: right;\">\n",
       "      <th></th>\n",
       "      <th>Name</th>\n",
       "    </tr>\n",
       "  </thead>\n",
       "  <tbody>\n",
       "    <tr>\n",
       "      <th>0</th>\n",
       "      <td>Joe</td>\n",
       "    </tr>\n",
       "    <tr>\n",
       "      <th>1</th>\n",
       "      <td>Pope</td>\n",
       "    </tr>\n",
       "    <tr>\n",
       "      <th>2</th>\n",
       "      <td>Buttler</td>\n",
       "    </tr>\n",
       "    <tr>\n",
       "      <th>3</th>\n",
       "      <td>Ben</td>\n",
       "    </tr>\n",
       "    <tr>\n",
       "      <th>4</th>\n",
       "      <td>James</td>\n",
       "    </tr>\n",
       "    <tr>\n",
       "      <th>5</th>\n",
       "      <td>Cook</td>\n",
       "    </tr>\n",
       "  </tbody>\n",
       "</table>\n",
       "</div>"
      ],
      "text/plain": [
       "      Name\n",
       "0      Joe\n",
       "1     Pope\n",
       "2  Buttler\n",
       "3      Ben\n",
       "4    James\n",
       "5     Cook"
      ]
     },
     "execution_count": 376,
     "metadata": {},
     "output_type": "execute_result"
    }
   ],
   "source": [
    "names2"
   ]
  },
  {
   "cell_type": "code",
   "execution_count": 378,
   "id": "e17f139c-7c1f-46fc-a245-da7141d80f6c",
   "metadata": {},
   "outputs": [
    {
     "data": {
      "text/html": [
       "<div>\n",
       "<style scoped>\n",
       "    .dataframe tbody tr th:only-of-type {\n",
       "        vertical-align: middle;\n",
       "    }\n",
       "\n",
       "    .dataframe tbody tr th {\n",
       "        vertical-align: top;\n",
       "    }\n",
       "\n",
       "    .dataframe thead th {\n",
       "        text-align: right;\n",
       "    }\n",
       "</style>\n",
       "<table border=\"1\" class=\"dataframe\">\n",
       "  <thead>\n",
       "    <tr style=\"text-align: right;\">\n",
       "      <th></th>\n",
       "      <th>Age</th>\n",
       "    </tr>\n",
       "  </thead>\n",
       "  <tbody>\n",
       "    <tr>\n",
       "      <th>0</th>\n",
       "      <td>28</td>\n",
       "    </tr>\n",
       "    <tr>\n",
       "      <th>1</th>\n",
       "      <td>34</td>\n",
       "    </tr>\n",
       "    <tr>\n",
       "      <th>2</th>\n",
       "      <td>29</td>\n",
       "    </tr>\n",
       "    <tr>\n",
       "      <th>3</th>\n",
       "      <td>42</td>\n",
       "    </tr>\n",
       "    <tr>\n",
       "      <th>4</th>\n",
       "      <td>17</td>\n",
       "    </tr>\n",
       "    <tr>\n",
       "      <th>5</th>\n",
       "      <td>17</td>\n",
       "    </tr>\n",
       "    <tr>\n",
       "      <th>6</th>\n",
       "      <td>45</td>\n",
       "    </tr>\n",
       "  </tbody>\n",
       "</table>\n",
       "</div>"
      ],
      "text/plain": [
       "   Age\n",
       "0   28\n",
       "1   34\n",
       "2   29\n",
       "3   42\n",
       "4   17\n",
       "5   17\n",
       "6   45"
      ]
     },
     "execution_count": 378,
     "metadata": {},
     "output_type": "execute_result"
    }
   ],
   "source": [
    "ages"
   ]
  },
  {
   "cell_type": "code",
   "execution_count": 380,
   "id": "79ac91b3-809b-4324-8308-6d5570b47b36",
   "metadata": {},
   "outputs": [
    {
     "data": {
      "text/html": [
       "<div>\n",
       "<style scoped>\n",
       "    .dataframe tbody tr th:only-of-type {\n",
       "        vertical-align: middle;\n",
       "    }\n",
       "\n",
       "    .dataframe tbody tr th {\n",
       "        vertical-align: top;\n",
       "    }\n",
       "\n",
       "    .dataframe thead th {\n",
       "        text-align: right;\n",
       "    }\n",
       "</style>\n",
       "<table border=\"1\" class=\"dataframe\">\n",
       "  <thead>\n",
       "    <tr style=\"text-align: right;\">\n",
       "      <th></th>\n",
       "      <th>Name</th>\n",
       "      <th>Age</th>\n",
       "    </tr>\n",
       "  </thead>\n",
       "  <tbody>\n",
       "    <tr>\n",
       "      <th>0</th>\n",
       "      <td>Tom</td>\n",
       "      <td>28</td>\n",
       "    </tr>\n",
       "    <tr>\n",
       "      <th>1</th>\n",
       "      <td>Jack</td>\n",
       "      <td>34</td>\n",
       "    </tr>\n",
       "    <tr>\n",
       "      <th>2</th>\n",
       "      <td>Steve</td>\n",
       "      <td>29</td>\n",
       "    </tr>\n",
       "    <tr>\n",
       "      <th>3</th>\n",
       "      <td>Ricky</td>\n",
       "      <td>42</td>\n",
       "    </tr>\n",
       "    <tr>\n",
       "      <th>4</th>\n",
       "      <td>Sam</td>\n",
       "      <td>17</td>\n",
       "    </tr>\n",
       "    <tr>\n",
       "      <th>5</th>\n",
       "      <td>Will</td>\n",
       "      <td>17</td>\n",
       "    </tr>\n",
       "    <tr>\n",
       "      <th>6</th>\n",
       "      <td>Root</td>\n",
       "      <td>45</td>\n",
       "    </tr>\n",
       "  </tbody>\n",
       "</table>\n",
       "</div>"
      ],
      "text/plain": [
       "    Name  Age\n",
       "0    Tom   28\n",
       "1   Jack   34\n",
       "2  Steve   29\n",
       "3  Ricky   42\n",
       "4    Sam   17\n",
       "5   Will   17\n",
       "6   Root   45"
      ]
     },
     "execution_count": 380,
     "metadata": {},
     "output_type": "execute_result"
    }
   ],
   "source": [
    "pd.concat([names, ages], axis = 1)                     # Concatenation"
   ]
  },
  {
   "cell_type": "code",
   "execution_count": 382,
   "id": "b0f04f9c-3b69-4488-af2c-19fa0b9bf058",
   "metadata": {},
   "outputs": [
    {
     "data": {
      "text/html": [
       "<div>\n",
       "<style scoped>\n",
       "    .dataframe tbody tr th:only-of-type {\n",
       "        vertical-align: middle;\n",
       "    }\n",
       "\n",
       "    .dataframe tbody tr th {\n",
       "        vertical-align: top;\n",
       "    }\n",
       "\n",
       "    .dataframe thead th {\n",
       "        text-align: right;\n",
       "    }\n",
       "</style>\n",
       "<table border=\"1\" class=\"dataframe\">\n",
       "  <thead>\n",
       "    <tr style=\"text-align: right;\">\n",
       "      <th></th>\n",
       "      <th>Name</th>\n",
       "    </tr>\n",
       "  </thead>\n",
       "  <tbody>\n",
       "    <tr>\n",
       "      <th>0</th>\n",
       "      <td>Tom</td>\n",
       "    </tr>\n",
       "    <tr>\n",
       "      <th>1</th>\n",
       "      <td>Jack</td>\n",
       "    </tr>\n",
       "    <tr>\n",
       "      <th>2</th>\n",
       "      <td>Steve</td>\n",
       "    </tr>\n",
       "    <tr>\n",
       "      <th>3</th>\n",
       "      <td>Ricky</td>\n",
       "    </tr>\n",
       "    <tr>\n",
       "      <th>4</th>\n",
       "      <td>Sam</td>\n",
       "    </tr>\n",
       "    <tr>\n",
       "      <th>5</th>\n",
       "      <td>Will</td>\n",
       "    </tr>\n",
       "    <tr>\n",
       "      <th>6</th>\n",
       "      <td>Root</td>\n",
       "    </tr>\n",
       "    <tr>\n",
       "      <th>0</th>\n",
       "      <td>Joe</td>\n",
       "    </tr>\n",
       "    <tr>\n",
       "      <th>1</th>\n",
       "      <td>Pope</td>\n",
       "    </tr>\n",
       "    <tr>\n",
       "      <th>2</th>\n",
       "      <td>Buttler</td>\n",
       "    </tr>\n",
       "    <tr>\n",
       "      <th>3</th>\n",
       "      <td>Ben</td>\n",
       "    </tr>\n",
       "    <tr>\n",
       "      <th>4</th>\n",
       "      <td>James</td>\n",
       "    </tr>\n",
       "    <tr>\n",
       "      <th>5</th>\n",
       "      <td>Cook</td>\n",
       "    </tr>\n",
       "  </tbody>\n",
       "</table>\n",
       "</div>"
      ],
      "text/plain": [
       "      Name\n",
       "0      Tom\n",
       "1     Jack\n",
       "2    Steve\n",
       "3    Ricky\n",
       "4      Sam\n",
       "5     Will\n",
       "6     Root\n",
       "0      Joe\n",
       "1     Pope\n",
       "2  Buttler\n",
       "3      Ben\n",
       "4    James\n",
       "5     Cook"
      ]
     },
     "execution_count": 382,
     "metadata": {},
     "output_type": "execute_result"
    }
   ],
   "source": [
    "pd.concat([names, names2])                # Concatenation"
   ]
  },
  {
   "cell_type": "markdown",
   "id": "a00d703e-1a05-4fff-b377-640042e1cb09",
   "metadata": {},
   "source": [
    "# Pandas Indexing\n",
    "\n",
    "loc() , iloc(), Filtering methods"
   ]
  },
  {
   "cell_type": "code",
   "execution_count": 388,
   "id": "6040bd18-cea1-4113-9f97-b299780bcd13",
   "metadata": {},
   "outputs": [
    {
     "data": {
      "text/html": [
       "<div>\n",
       "<style scoped>\n",
       "    .dataframe tbody tr th:only-of-type {\n",
       "        vertical-align: middle;\n",
       "    }\n",
       "\n",
       "    .dataframe tbody tr th {\n",
       "        vertical-align: top;\n",
       "    }\n",
       "\n",
       "    .dataframe thead th {\n",
       "        text-align: right;\n",
       "    }\n",
       "</style>\n",
       "<table border=\"1\" class=\"dataframe\">\n",
       "  <thead>\n",
       "    <tr style=\"text-align: right;\">\n",
       "      <th></th>\n",
       "      <th>Name</th>\n",
       "      <th>Age</th>\n",
       "    </tr>\n",
       "  </thead>\n",
       "  <tbody>\n",
       "    <tr>\n",
       "      <th>C1</th>\n",
       "      <td>Tom</td>\n",
       "      <td>28</td>\n",
       "    </tr>\n",
       "    <tr>\n",
       "      <th>C2</th>\n",
       "      <td>Jack</td>\n",
       "      <td>34</td>\n",
       "    </tr>\n",
       "    <tr>\n",
       "      <th>C3</th>\n",
       "      <td>Steve</td>\n",
       "      <td>29</td>\n",
       "    </tr>\n",
       "    <tr>\n",
       "      <th>C4</th>\n",
       "      <td>Ricky</td>\n",
       "      <td>42</td>\n",
       "    </tr>\n",
       "    <tr>\n",
       "      <th>C5</th>\n",
       "      <td>Sam</td>\n",
       "      <td>17</td>\n",
       "    </tr>\n",
       "    <tr>\n",
       "      <th>C6</th>\n",
       "      <td>Will</td>\n",
       "      <td>17</td>\n",
       "    </tr>\n",
       "    <tr>\n",
       "      <th>C7</th>\n",
       "      <td>Root</td>\n",
       "      <td>45</td>\n",
       "    </tr>\n",
       "  </tbody>\n",
       "</table>\n",
       "</div>"
      ],
      "text/plain": [
       "     Name  Age\n",
       "C1    Tom   28\n",
       "C2   Jack   34\n",
       "C3  Steve   29\n",
       "C4  Ricky   42\n",
       "C5    Sam   17\n",
       "C6   Will   17\n",
       "C7   Root   45"
      ]
     },
     "execution_count": 388,
     "metadata": {},
     "output_type": "execute_result"
    }
   ],
   "source": [
    "data"
   ]
  },
  {
   "cell_type": "code",
   "execution_count": 390,
   "id": "df9d6eac-e816-4ff2-988a-d26c24498dc4",
   "metadata": {},
   "outputs": [
    {
     "data": {
      "text/html": [
       "<div>\n",
       "<style scoped>\n",
       "    .dataframe tbody tr th:only-of-type {\n",
       "        vertical-align: middle;\n",
       "    }\n",
       "\n",
       "    .dataframe tbody tr th {\n",
       "        vertical-align: top;\n",
       "    }\n",
       "\n",
       "    .dataframe thead th {\n",
       "        text-align: right;\n",
       "    }\n",
       "</style>\n",
       "<table border=\"1\" class=\"dataframe\">\n",
       "  <thead>\n",
       "    <tr style=\"text-align: right;\">\n",
       "      <th></th>\n",
       "      <th>Name</th>\n",
       "      <th>Age</th>\n",
       "    </tr>\n",
       "  </thead>\n",
       "  <tbody>\n",
       "    <tr>\n",
       "      <th>C1</th>\n",
       "      <td>Tom</td>\n",
       "      <td>28</td>\n",
       "    </tr>\n",
       "    <tr>\n",
       "      <th>C2</th>\n",
       "      <td>Jack</td>\n",
       "      <td>34</td>\n",
       "    </tr>\n",
       "    <tr>\n",
       "      <th>C3</th>\n",
       "      <td>Steve</td>\n",
       "      <td>29</td>\n",
       "    </tr>\n",
       "    <tr>\n",
       "      <th>C4</th>\n",
       "      <td>Ricky</td>\n",
       "      <td>42</td>\n",
       "    </tr>\n",
       "    <tr>\n",
       "      <th>C5</th>\n",
       "      <td>Sam</td>\n",
       "      <td>17</td>\n",
       "    </tr>\n",
       "    <tr>\n",
       "      <th>C6</th>\n",
       "      <td>Will</td>\n",
       "      <td>17</td>\n",
       "    </tr>\n",
       "    <tr>\n",
       "      <th>C7</th>\n",
       "      <td>Root</td>\n",
       "      <td>45</td>\n",
       "    </tr>\n",
       "  </tbody>\n",
       "</table>\n",
       "</div>"
      ],
      "text/plain": [
       "     Name  Age\n",
       "C1    Tom   28\n",
       "C2   Jack   34\n",
       "C3  Steve   29\n",
       "C4  Ricky   42\n",
       "C5    Sam   17\n",
       "C6   Will   17\n",
       "C7   Root   45"
      ]
     },
     "execution_count": 390,
     "metadata": {},
     "output_type": "execute_result"
    }
   ],
   "source": [
    "# data['Name']\n",
    "data[['Name','Age']]"
   ]
  },
  {
   "cell_type": "code",
   "execution_count": 392,
   "id": "d588ad97-3071-4096-bd13-d0d6010e82da",
   "metadata": {},
   "outputs": [
    {
     "data": {
      "text/html": [
       "<div>\n",
       "<style scoped>\n",
       "    .dataframe tbody tr th:only-of-type {\n",
       "        vertical-align: middle;\n",
       "    }\n",
       "\n",
       "    .dataframe tbody tr th {\n",
       "        vertical-align: top;\n",
       "    }\n",
       "\n",
       "    .dataframe thead th {\n",
       "        text-align: right;\n",
       "    }\n",
       "</style>\n",
       "<table border=\"1\" class=\"dataframe\">\n",
       "  <thead>\n",
       "    <tr style=\"text-align: right;\">\n",
       "      <th></th>\n",
       "      <th>Name</th>\n",
       "    </tr>\n",
       "  </thead>\n",
       "  <tbody>\n",
       "    <tr>\n",
       "      <th>C5</th>\n",
       "      <td>Sam</td>\n",
       "    </tr>\n",
       "    <tr>\n",
       "      <th>C6</th>\n",
       "      <td>Will</td>\n",
       "    </tr>\n",
       "  </tbody>\n",
       "</table>\n",
       "</div>"
      ],
      "text/plain": [
       "    Name\n",
       "C5   Sam\n",
       "C6  Will"
      ]
     },
     "execution_count": 392,
     "metadata": {},
     "output_type": "execute_result"
    }
   ],
   "source": [
    "data[data['Age'] <= 18][['Name']]"
   ]
  },
  {
   "cell_type": "code",
   "execution_count": 394,
   "id": "a366adea-546d-4871-a49f-3b8dae5485ec",
   "metadata": {},
   "outputs": [
    {
     "data": {
      "text/html": [
       "<div>\n",
       "<style scoped>\n",
       "    .dataframe tbody tr th:only-of-type {\n",
       "        vertical-align: middle;\n",
       "    }\n",
       "\n",
       "    .dataframe tbody tr th {\n",
       "        vertical-align: top;\n",
       "    }\n",
       "\n",
       "    .dataframe thead th {\n",
       "        text-align: right;\n",
       "    }\n",
       "</style>\n",
       "<table border=\"1\" class=\"dataframe\">\n",
       "  <thead>\n",
       "    <tr style=\"text-align: right;\">\n",
       "      <th></th>\n",
       "      <th>Name</th>\n",
       "      <th>Age</th>\n",
       "    </tr>\n",
       "  </thead>\n",
       "  <tbody>\n",
       "    <tr>\n",
       "      <th>C4</th>\n",
       "      <td>Ricky</td>\n",
       "      <td>42</td>\n",
       "    </tr>\n",
       "    <tr>\n",
       "      <th>C7</th>\n",
       "      <td>Root</td>\n",
       "      <td>45</td>\n",
       "    </tr>\n",
       "  </tbody>\n",
       "</table>\n",
       "</div>"
      ],
      "text/plain": [
       "     Name  Age\n",
       "C4  Ricky   42\n",
       "C7   Root   45"
      ]
     },
     "execution_count": 394,
     "metadata": {},
     "output_type": "execute_result"
    }
   ],
   "source": [
    "data[data['Age'] > 40]"
   ]
  },
  {
   "cell_type": "code",
   "execution_count": 396,
   "id": "870adcea-63f3-45cd-a609-bb81962322fb",
   "metadata": {},
   "outputs": [
    {
     "name": "stdout",
     "output_type": "stream",
     "text": [
      "Jack\n",
      "Jack\n"
     ]
    }
   ],
   "source": [
    "print(data.loc['C2','Name'])\n",
    "print(data.iloc[1,0])"
   ]
  },
  {
   "cell_type": "markdown",
   "id": "a0fc1cc0-7ffe-4f7a-b9f9-26f0506d6148",
   "metadata": {},
   "source": [
    "# Pandas Creating & Reading CSV files"
   ]
  },
  {
   "cell_type": "code",
   "execution_count": 399,
   "id": "83b8acf8-854e-4462-b410-f2acc7423d0d",
   "metadata": {},
   "outputs": [],
   "source": [
    "import pandas as pd"
   ]
  },
  {
   "cell_type": "code",
   "execution_count": 401,
   "id": "accd0356-ffa4-48a7-80e8-d633a7db55aa",
   "metadata": {},
   "outputs": [],
   "source": [
    "data = pd.DataFrame({\n",
    "    'Name' : ['Ankit', 'Aishwarya', 'Sanket', 'Shivangi', 'Saiprasad', 'Rishika', 'Pratiksha'],\n",
    "    'Age' : [23, 21, 22, 21, 22, 21, 20],\n",
    "    'University' : ['BHU', 'JNU', 'DU', 'BHU', 'SPPU', 'SPPU', 'DU'],\n",
    "})"
   ]
  },
  {
   "cell_type": "code",
   "execution_count": 403,
   "id": "4580a01f-ed5a-41e4-846b-1ff1edb725a8",
   "metadata": {},
   "outputs": [
    {
     "data": {
      "text/html": [
       "<div>\n",
       "<style scoped>\n",
       "    .dataframe tbody tr th:only-of-type {\n",
       "        vertical-align: middle;\n",
       "    }\n",
       "\n",
       "    .dataframe tbody tr th {\n",
       "        vertical-align: top;\n",
       "    }\n",
       "\n",
       "    .dataframe thead th {\n",
       "        text-align: right;\n",
       "    }\n",
       "</style>\n",
       "<table border=\"1\" class=\"dataframe\">\n",
       "  <thead>\n",
       "    <tr style=\"text-align: right;\">\n",
       "      <th></th>\n",
       "      <th>Name</th>\n",
       "      <th>Age</th>\n",
       "      <th>University</th>\n",
       "    </tr>\n",
       "  </thead>\n",
       "  <tbody>\n",
       "    <tr>\n",
       "      <th>0</th>\n",
       "      <td>Ankit</td>\n",
       "      <td>23</td>\n",
       "      <td>BHU</td>\n",
       "    </tr>\n",
       "    <tr>\n",
       "      <th>1</th>\n",
       "      <td>Aishwarya</td>\n",
       "      <td>21</td>\n",
       "      <td>JNU</td>\n",
       "    </tr>\n",
       "    <tr>\n",
       "      <th>2</th>\n",
       "      <td>Sanket</td>\n",
       "      <td>22</td>\n",
       "      <td>DU</td>\n",
       "    </tr>\n",
       "    <tr>\n",
       "      <th>3</th>\n",
       "      <td>Shivangi</td>\n",
       "      <td>21</td>\n",
       "      <td>BHU</td>\n",
       "    </tr>\n",
       "    <tr>\n",
       "      <th>4</th>\n",
       "      <td>Saiprasad</td>\n",
       "      <td>22</td>\n",
       "      <td>SPPU</td>\n",
       "    </tr>\n",
       "    <tr>\n",
       "      <th>5</th>\n",
       "      <td>Rishika</td>\n",
       "      <td>21</td>\n",
       "      <td>SPPU</td>\n",
       "    </tr>\n",
       "    <tr>\n",
       "      <th>6</th>\n",
       "      <td>Pratiksha</td>\n",
       "      <td>20</td>\n",
       "      <td>DU</td>\n",
       "    </tr>\n",
       "  </tbody>\n",
       "</table>\n",
       "</div>"
      ],
      "text/plain": [
       "        Name  Age University\n",
       "0      Ankit   23        BHU\n",
       "1  Aishwarya   21        JNU\n",
       "2     Sanket   22         DU\n",
       "3   Shivangi   21        BHU\n",
       "4  Saiprasad   22       SPPU\n",
       "5    Rishika   21       SPPU\n",
       "6  Pratiksha   20         DU"
      ]
     },
     "execution_count": 403,
     "metadata": {},
     "output_type": "execute_result"
    }
   ],
   "source": [
    "data"
   ]
  },
  {
   "cell_type": "code",
   "execution_count": 405,
   "id": "d03a7dc7-5e23-4b48-b4fa-90e62d195555",
   "metadata": {},
   "outputs": [],
   "source": [
    "# data.to_csv('students.csv')\n",
    "data.to_csv('students.csv', index = False)"
   ]
  },
  {
   "cell_type": "markdown",
   "id": "c6b04867-744e-4087-a526-a895931b68ad",
   "metadata": {},
   "source": [
    "# Uploading Datasets"
   ]
  },
  {
   "cell_type": "code",
   "execution_count": 410,
   "id": "6f119d76-1085-4fbf-bc9b-390dcd59f014",
   "metadata": {},
   "outputs": [],
   "source": [
    "#students = pd.read_csv('/content/students.csv')"
   ]
  },
  {
   "cell_type": "code",
   "execution_count": 414,
   "id": "b93d4d3c-1acc-467c-b469-48b1f7c56683",
   "metadata": {},
   "outputs": [],
   "source": [
    "#students"
   ]
  },
  {
   "cell_type": "markdown",
   "id": "714a2de2-2c95-4b43-bb1d-3aa1a8040995",
   "metadata": {},
   "source": [
    "# Groupby Function"
   ]
  },
  {
   "cell_type": "code",
   "execution_count": 419,
   "id": "eef851e3-9599-41a9-933b-212fe2d3b5f6",
   "metadata": {},
   "outputs": [],
   "source": [
    "#emp = pd.read_csv('/content/Employees.csv')"
   ]
  },
  {
   "cell_type": "code",
   "execution_count": null,
   "id": "c8453523-85b7-4caf-9510-32a79f0aceab",
   "metadata": {},
   "outputs": [],
   "source": [
    "grouped = emp.groupby('Department')\n",
    "\n",
    "tech = grouped.get_group('Technical')\n",
    "market = grouped.get_group('Marketing')\n",
    "admin = grouped.get_group('Administration')"
   ]
  },
  {
   "cell_type": "code",
   "execution_count": null,
   "id": "a2bdddef-3ee0-43ea-a838-e77c04470b98",
   "metadata": {},
   "outputs": [],
   "source": [
    "market['Years of Experience'].mean()"
   ]
  },
  {
   "cell_type": "markdown",
   "id": "e8123a19-ef11-4bea-85a8-f0ae51d1e031",
   "metadata": {},
   "source": [
    "# Top Commands\n",
    "\n",
    "Creating New, Renaming & Droping Columns.\n",
    "\n",
    "Apply Method, Sort Index, Sort Values."
   ]
  },
  {
   "cell_type": "code",
   "execution_count": 424,
   "id": "6cab31f1-90a0-4428-973d-51408e524a45",
   "metadata": {},
   "outputs": [
    {
     "data": {
      "text/html": [
       "<div>\n",
       "<style scoped>\n",
       "    .dataframe tbody tr th:only-of-type {\n",
       "        vertical-align: middle;\n",
       "    }\n",
       "\n",
       "    .dataframe tbody tr th {\n",
       "        vertical-align: top;\n",
       "    }\n",
       "\n",
       "    .dataframe thead th {\n",
       "        text-align: right;\n",
       "    }\n",
       "</style>\n",
       "<table border=\"1\" class=\"dataframe\">\n",
       "  <thead>\n",
       "    <tr style=\"text-align: right;\">\n",
       "      <th></th>\n",
       "      <th>Name</th>\n",
       "      <th>Age</th>\n",
       "      <th>University</th>\n",
       "    </tr>\n",
       "  </thead>\n",
       "  <tbody>\n",
       "    <tr>\n",
       "      <th>0</th>\n",
       "      <td>Ankit</td>\n",
       "      <td>23</td>\n",
       "      <td>BHU</td>\n",
       "    </tr>\n",
       "    <tr>\n",
       "      <th>1</th>\n",
       "      <td>Aishwarya</td>\n",
       "      <td>21</td>\n",
       "      <td>JNU</td>\n",
       "    </tr>\n",
       "    <tr>\n",
       "      <th>2</th>\n",
       "      <td>Sanket</td>\n",
       "      <td>22</td>\n",
       "      <td>DU</td>\n",
       "    </tr>\n",
       "    <tr>\n",
       "      <th>3</th>\n",
       "      <td>Shivangi</td>\n",
       "      <td>21</td>\n",
       "      <td>BHU</td>\n",
       "    </tr>\n",
       "    <tr>\n",
       "      <th>4</th>\n",
       "      <td>Saiprasad</td>\n",
       "      <td>22</td>\n",
       "      <td>SPPU</td>\n",
       "    </tr>\n",
       "    <tr>\n",
       "      <th>5</th>\n",
       "      <td>Rishika</td>\n",
       "      <td>21</td>\n",
       "      <td>SPPU</td>\n",
       "    </tr>\n",
       "    <tr>\n",
       "      <th>6</th>\n",
       "      <td>Pratiksha</td>\n",
       "      <td>20</td>\n",
       "      <td>DU</td>\n",
       "    </tr>\n",
       "  </tbody>\n",
       "</table>\n",
       "</div>"
      ],
      "text/plain": [
       "        Name  Age University\n",
       "0      Ankit   23        BHU\n",
       "1  Aishwarya   21        JNU\n",
       "2     Sanket   22         DU\n",
       "3   Shivangi   21        BHU\n",
       "4  Saiprasad   22       SPPU\n",
       "5    Rishika   21       SPPU\n",
       "6  Pratiksha   20         DU"
      ]
     },
     "execution_count": 424,
     "metadata": {},
     "output_type": "execute_result"
    }
   ],
   "source": [
    "data"
   ]
  },
  {
   "cell_type": "code",
   "execution_count": 426,
   "id": "c706c8af-5548-46c0-aef9-73ca3d5b1ac5",
   "metadata": {},
   "outputs": [],
   "source": [
    "# Creating New Columns\n",
    "\n",
    "data['City'] = ['Delhi', 'Bangalore', 'Chennai', 'Patna', 'Pune', 'Pune', 'Mumbai']"
   ]
  },
  {
   "cell_type": "code",
   "execution_count": 430,
   "id": "51f867ba-c33c-49cc-9af3-16513ce16cba",
   "metadata": {},
   "outputs": [
    {
     "data": {
      "text/html": [
       "<div>\n",
       "<style scoped>\n",
       "    .dataframe tbody tr th:only-of-type {\n",
       "        vertical-align: middle;\n",
       "    }\n",
       "\n",
       "    .dataframe tbody tr th {\n",
       "        vertical-align: top;\n",
       "    }\n",
       "\n",
       "    .dataframe thead th {\n",
       "        text-align: right;\n",
       "    }\n",
       "</style>\n",
       "<table border=\"1\" class=\"dataframe\">\n",
       "  <thead>\n",
       "    <tr style=\"text-align: right;\">\n",
       "      <th></th>\n",
       "      <th>Name</th>\n",
       "      <th>Age</th>\n",
       "      <th>University</th>\n",
       "      <th>City</th>\n",
       "    </tr>\n",
       "  </thead>\n",
       "  <tbody>\n",
       "    <tr>\n",
       "      <th>0</th>\n",
       "      <td>Ankit</td>\n",
       "      <td>23</td>\n",
       "      <td>BHU</td>\n",
       "      <td>Delhi</td>\n",
       "    </tr>\n",
       "    <tr>\n",
       "      <th>1</th>\n",
       "      <td>Aishwarya</td>\n",
       "      <td>21</td>\n",
       "      <td>JNU</td>\n",
       "      <td>Bangalore</td>\n",
       "    </tr>\n",
       "    <tr>\n",
       "      <th>2</th>\n",
       "      <td>Sanket</td>\n",
       "      <td>22</td>\n",
       "      <td>DU</td>\n",
       "      <td>Chennai</td>\n",
       "    </tr>\n",
       "    <tr>\n",
       "      <th>3</th>\n",
       "      <td>Shivangi</td>\n",
       "      <td>21</td>\n",
       "      <td>BHU</td>\n",
       "      <td>Patna</td>\n",
       "    </tr>\n",
       "    <tr>\n",
       "      <th>4</th>\n",
       "      <td>Saiprasad</td>\n",
       "      <td>22</td>\n",
       "      <td>SPPU</td>\n",
       "      <td>Pune</td>\n",
       "    </tr>\n",
       "    <tr>\n",
       "      <th>5</th>\n",
       "      <td>Rishika</td>\n",
       "      <td>21</td>\n",
       "      <td>SPPU</td>\n",
       "      <td>Pune</td>\n",
       "    </tr>\n",
       "    <tr>\n",
       "      <th>6</th>\n",
       "      <td>Pratiksha</td>\n",
       "      <td>20</td>\n",
       "      <td>DU</td>\n",
       "      <td>Mumbai</td>\n",
       "    </tr>\n",
       "  </tbody>\n",
       "</table>\n",
       "</div>"
      ],
      "text/plain": [
       "        Name  Age University       City\n",
       "0      Ankit   23        BHU      Delhi\n",
       "1  Aishwarya   21        JNU  Bangalore\n",
       "2     Sanket   22         DU    Chennai\n",
       "3   Shivangi   21        BHU      Patna\n",
       "4  Saiprasad   22       SPPU       Pune\n",
       "5    Rishika   21       SPPU       Pune\n",
       "6  Pratiksha   20         DU     Mumbai"
      ]
     },
     "execution_count": 430,
     "metadata": {},
     "output_type": "execute_result"
    }
   ],
   "source": [
    "data"
   ]
  },
  {
   "cell_type": "code",
   "execution_count": 432,
   "id": "e31e64cd-aec3-45bd-81d4-d26acec70201",
   "metadata": {},
   "outputs": [],
   "source": [
    "#remaining columns\n",
    "data.columns = ['First Name','Current Age','College University','Location']"
   ]
  },
  {
   "cell_type": "code",
   "execution_count": 434,
   "id": "c6cb8eef-9aa1-4cb5-a13e-807da292f543",
   "metadata": {},
   "outputs": [
    {
     "data": {
      "text/html": [
       "<div>\n",
       "<style scoped>\n",
       "    .dataframe tbody tr th:only-of-type {\n",
       "        vertical-align: middle;\n",
       "    }\n",
       "\n",
       "    .dataframe tbody tr th {\n",
       "        vertical-align: top;\n",
       "    }\n",
       "\n",
       "    .dataframe thead th {\n",
       "        text-align: right;\n",
       "    }\n",
       "</style>\n",
       "<table border=\"1\" class=\"dataframe\">\n",
       "  <thead>\n",
       "    <tr style=\"text-align: right;\">\n",
       "      <th></th>\n",
       "      <th>First Name</th>\n",
       "      <th>Current Age</th>\n",
       "      <th>College University</th>\n",
       "      <th>Location</th>\n",
       "    </tr>\n",
       "  </thead>\n",
       "  <tbody>\n",
       "    <tr>\n",
       "      <th>0</th>\n",
       "      <td>Ankit</td>\n",
       "      <td>23</td>\n",
       "      <td>BHU</td>\n",
       "      <td>Delhi</td>\n",
       "    </tr>\n",
       "    <tr>\n",
       "      <th>1</th>\n",
       "      <td>Aishwarya</td>\n",
       "      <td>21</td>\n",
       "      <td>JNU</td>\n",
       "      <td>Bangalore</td>\n",
       "    </tr>\n",
       "    <tr>\n",
       "      <th>2</th>\n",
       "      <td>Sanket</td>\n",
       "      <td>22</td>\n",
       "      <td>DU</td>\n",
       "      <td>Chennai</td>\n",
       "    </tr>\n",
       "    <tr>\n",
       "      <th>3</th>\n",
       "      <td>Shivangi</td>\n",
       "      <td>21</td>\n",
       "      <td>BHU</td>\n",
       "      <td>Patna</td>\n",
       "    </tr>\n",
       "    <tr>\n",
       "      <th>4</th>\n",
       "      <td>Saiprasad</td>\n",
       "      <td>22</td>\n",
       "      <td>SPPU</td>\n",
       "      <td>Pune</td>\n",
       "    </tr>\n",
       "    <tr>\n",
       "      <th>5</th>\n",
       "      <td>Rishika</td>\n",
       "      <td>21</td>\n",
       "      <td>SPPU</td>\n",
       "      <td>Pune</td>\n",
       "    </tr>\n",
       "    <tr>\n",
       "      <th>6</th>\n",
       "      <td>Pratiksha</td>\n",
       "      <td>20</td>\n",
       "      <td>DU</td>\n",
       "      <td>Mumbai</td>\n",
       "    </tr>\n",
       "  </tbody>\n",
       "</table>\n",
       "</div>"
      ],
      "text/plain": [
       "  First Name  Current Age College University   Location\n",
       "0      Ankit           23                BHU      Delhi\n",
       "1  Aishwarya           21                JNU  Bangalore\n",
       "2     Sanket           22                 DU    Chennai\n",
       "3   Shivangi           21                BHU      Patna\n",
       "4  Saiprasad           22               SPPU       Pune\n",
       "5    Rishika           21               SPPU       Pune\n",
       "6  Pratiksha           20                 DU     Mumbai"
      ]
     },
     "execution_count": 434,
     "metadata": {},
     "output_type": "execute_result"
    }
   ],
   "source": [
    "data"
   ]
  },
  {
   "cell_type": "code",
   "execution_count": 436,
   "id": "5c66bbad-e92d-40a2-9657-0a1752cc4df4",
   "metadata": {},
   "outputs": [
    {
     "data": {
      "text/html": [
       "<div>\n",
       "<style scoped>\n",
       "    .dataframe tbody tr th:only-of-type {\n",
       "        vertical-align: middle;\n",
       "    }\n",
       "\n",
       "    .dataframe tbody tr th {\n",
       "        vertical-align: top;\n",
       "    }\n",
       "\n",
       "    .dataframe thead th {\n",
       "        text-align: right;\n",
       "    }\n",
       "</style>\n",
       "<table border=\"1\" class=\"dataframe\">\n",
       "  <thead>\n",
       "    <tr style=\"text-align: right;\">\n",
       "      <th></th>\n",
       "      <th>First Name</th>\n",
       "      <th>College University</th>\n",
       "      <th>Location</th>\n",
       "    </tr>\n",
       "  </thead>\n",
       "  <tbody>\n",
       "    <tr>\n",
       "      <th>0</th>\n",
       "      <td>Ankit</td>\n",
       "      <td>BHU</td>\n",
       "      <td>Delhi</td>\n",
       "    </tr>\n",
       "    <tr>\n",
       "      <th>1</th>\n",
       "      <td>Aishwarya</td>\n",
       "      <td>JNU</td>\n",
       "      <td>Bangalore</td>\n",
       "    </tr>\n",
       "    <tr>\n",
       "      <th>2</th>\n",
       "      <td>Sanket</td>\n",
       "      <td>DU</td>\n",
       "      <td>Chennai</td>\n",
       "    </tr>\n",
       "    <tr>\n",
       "      <th>3</th>\n",
       "      <td>Shivangi</td>\n",
       "      <td>BHU</td>\n",
       "      <td>Patna</td>\n",
       "    </tr>\n",
       "    <tr>\n",
       "      <th>4</th>\n",
       "      <td>Saiprasad</td>\n",
       "      <td>SPPU</td>\n",
       "      <td>Pune</td>\n",
       "    </tr>\n",
       "    <tr>\n",
       "      <th>5</th>\n",
       "      <td>Rishika</td>\n",
       "      <td>SPPU</td>\n",
       "      <td>Pune</td>\n",
       "    </tr>\n",
       "    <tr>\n",
       "      <th>6</th>\n",
       "      <td>Pratiksha</td>\n",
       "      <td>DU</td>\n",
       "      <td>Mumbai</td>\n",
       "    </tr>\n",
       "  </tbody>\n",
       "</table>\n",
       "</div>"
      ],
      "text/plain": [
       "  First Name College University   Location\n",
       "0      Ankit                BHU      Delhi\n",
       "1  Aishwarya                JNU  Bangalore\n",
       "2     Sanket                 DU    Chennai\n",
       "3   Shivangi                BHU      Patna\n",
       "4  Saiprasad               SPPU       Pune\n",
       "5    Rishika               SPPU       Pune\n",
       "6  Pratiksha                 DU     Mumbai"
      ]
     },
     "execution_count": 436,
     "metadata": {},
     "output_type": "execute_result"
    }
   ],
   "source": [
    "data.drop(['Current Age'], axis = 1)           # Temporary Droping Syntax"
   ]
  },
  {
   "cell_type": "code",
   "execution_count": 438,
   "id": "cf939d3f-20be-4261-a117-64bf2afa0365",
   "metadata": {},
   "outputs": [],
   "source": [
    "data.drop(['Current Age'], axis = 1, inplace = True)           # Permanent Droping Syntax"
   ]
  },
  {
   "cell_type": "code",
   "execution_count": 440,
   "id": "6f82d58d-0866-462b-bcb9-a94f0ba5ec2a",
   "metadata": {},
   "outputs": [],
   "source": [
    "# Creating Marks Column\n",
    "\n",
    "data['Marks'] = [201, 210, 195, 183, 225, 203, 190]"
   ]
  },
  {
   "cell_type": "code",
   "execution_count": 442,
   "id": "f8fa947b-d7b2-4639-bbb9-e55864655290",
   "metadata": {},
   "outputs": [],
   "source": [
    "# Apply Method\n",
    "\n",
    "data['Marks'] = data['Marks'].apply(lambda x: x/5)"
   ]
  },
  {
   "cell_type": "code",
   "execution_count": 444,
   "id": "dd456f92-fc5e-4ba1-9c46-ec6f991ac3ea",
   "metadata": {},
   "outputs": [],
   "source": [
    "# Renaming Column\n",
    "\n",
    "data.columns = ['First Name','College University','Location', 'Marks/Subject']"
   ]
  },
  {
   "cell_type": "code",
   "execution_count": 446,
   "id": "daf0274a-8ca1-4709-bc57-632a178ea336",
   "metadata": {},
   "outputs": [],
   "source": [
    "data.index = [10,28,64,7,1,6,15]          # Assigning Index"
   ]
  },
  {
   "cell_type": "code",
   "execution_count": 448,
   "id": "77a5da4b-a7f0-4533-93c3-12ed38a91962",
   "metadata": {},
   "outputs": [
    {
     "data": {
      "text/html": [
       "<div>\n",
       "<style scoped>\n",
       "    .dataframe tbody tr th:only-of-type {\n",
       "        vertical-align: middle;\n",
       "    }\n",
       "\n",
       "    .dataframe tbody tr th {\n",
       "        vertical-align: top;\n",
       "    }\n",
       "\n",
       "    .dataframe thead th {\n",
       "        text-align: right;\n",
       "    }\n",
       "</style>\n",
       "<table border=\"1\" class=\"dataframe\">\n",
       "  <thead>\n",
       "    <tr style=\"text-align: right;\">\n",
       "      <th></th>\n",
       "      <th>First Name</th>\n",
       "      <th>College University</th>\n",
       "      <th>Location</th>\n",
       "      <th>Marks/Subject</th>\n",
       "    </tr>\n",
       "  </thead>\n",
       "  <tbody>\n",
       "    <tr>\n",
       "      <th>1</th>\n",
       "      <td>Saiprasad</td>\n",
       "      <td>SPPU</td>\n",
       "      <td>Pune</td>\n",
       "      <td>45.0</td>\n",
       "    </tr>\n",
       "    <tr>\n",
       "      <th>6</th>\n",
       "      <td>Rishika</td>\n",
       "      <td>SPPU</td>\n",
       "      <td>Pune</td>\n",
       "      <td>40.6</td>\n",
       "    </tr>\n",
       "    <tr>\n",
       "      <th>7</th>\n",
       "      <td>Shivangi</td>\n",
       "      <td>BHU</td>\n",
       "      <td>Patna</td>\n",
       "      <td>36.6</td>\n",
       "    </tr>\n",
       "    <tr>\n",
       "      <th>10</th>\n",
       "      <td>Ankit</td>\n",
       "      <td>BHU</td>\n",
       "      <td>Delhi</td>\n",
       "      <td>40.2</td>\n",
       "    </tr>\n",
       "    <tr>\n",
       "      <th>15</th>\n",
       "      <td>Pratiksha</td>\n",
       "      <td>DU</td>\n",
       "      <td>Mumbai</td>\n",
       "      <td>38.0</td>\n",
       "    </tr>\n",
       "    <tr>\n",
       "      <th>28</th>\n",
       "      <td>Aishwarya</td>\n",
       "      <td>JNU</td>\n",
       "      <td>Bangalore</td>\n",
       "      <td>42.0</td>\n",
       "    </tr>\n",
       "    <tr>\n",
       "      <th>64</th>\n",
       "      <td>Sanket</td>\n",
       "      <td>DU</td>\n",
       "      <td>Chennai</td>\n",
       "      <td>39.0</td>\n",
       "    </tr>\n",
       "  </tbody>\n",
       "</table>\n",
       "</div>"
      ],
      "text/plain": [
       "   First Name College University   Location  Marks/Subject\n",
       "1   Saiprasad               SPPU       Pune           45.0\n",
       "6     Rishika               SPPU       Pune           40.6\n",
       "7    Shivangi                BHU      Patna           36.6\n",
       "10      Ankit                BHU      Delhi           40.2\n",
       "15  Pratiksha                 DU     Mumbai           38.0\n",
       "28  Aishwarya                JNU  Bangalore           42.0\n",
       "64     Sanket                 DU    Chennai           39.0"
      ]
     },
     "execution_count": 448,
     "metadata": {},
     "output_type": "execute_result"
    }
   ],
   "source": [
    "data.sort_index(ascending = True)                      # Default Statement : Ascending = True"
   ]
  },
  {
   "cell_type": "code",
   "execution_count": 450,
   "id": "44fc6b97-f4e2-4d32-be09-7d8ed0ed5ca1",
   "metadata": {},
   "outputs": [
    {
     "data": {
      "text/html": [
       "<div>\n",
       "<style scoped>\n",
       "    .dataframe tbody tr th:only-of-type {\n",
       "        vertical-align: middle;\n",
       "    }\n",
       "\n",
       "    .dataframe tbody tr th {\n",
       "        vertical-align: top;\n",
       "    }\n",
       "\n",
       "    .dataframe thead th {\n",
       "        text-align: right;\n",
       "    }\n",
       "</style>\n",
       "<table border=\"1\" class=\"dataframe\">\n",
       "  <thead>\n",
       "    <tr style=\"text-align: right;\">\n",
       "      <th></th>\n",
       "      <th>First Name</th>\n",
       "      <th>College University</th>\n",
       "      <th>Location</th>\n",
       "      <th>Marks/Subject</th>\n",
       "    </tr>\n",
       "  </thead>\n",
       "  <tbody>\n",
       "    <tr>\n",
       "      <th>64</th>\n",
       "      <td>Sanket</td>\n",
       "      <td>DU</td>\n",
       "      <td>Chennai</td>\n",
       "      <td>39.0</td>\n",
       "    </tr>\n",
       "    <tr>\n",
       "      <th>28</th>\n",
       "      <td>Aishwarya</td>\n",
       "      <td>JNU</td>\n",
       "      <td>Bangalore</td>\n",
       "      <td>42.0</td>\n",
       "    </tr>\n",
       "    <tr>\n",
       "      <th>15</th>\n",
       "      <td>Pratiksha</td>\n",
       "      <td>DU</td>\n",
       "      <td>Mumbai</td>\n",
       "      <td>38.0</td>\n",
       "    </tr>\n",
       "    <tr>\n",
       "      <th>10</th>\n",
       "      <td>Ankit</td>\n",
       "      <td>BHU</td>\n",
       "      <td>Delhi</td>\n",
       "      <td>40.2</td>\n",
       "    </tr>\n",
       "    <tr>\n",
       "      <th>7</th>\n",
       "      <td>Shivangi</td>\n",
       "      <td>BHU</td>\n",
       "      <td>Patna</td>\n",
       "      <td>36.6</td>\n",
       "    </tr>\n",
       "    <tr>\n",
       "      <th>6</th>\n",
       "      <td>Rishika</td>\n",
       "      <td>SPPU</td>\n",
       "      <td>Pune</td>\n",
       "      <td>40.6</td>\n",
       "    </tr>\n",
       "    <tr>\n",
       "      <th>1</th>\n",
       "      <td>Saiprasad</td>\n",
       "      <td>SPPU</td>\n",
       "      <td>Pune</td>\n",
       "      <td>45.0</td>\n",
       "    </tr>\n",
       "  </tbody>\n",
       "</table>\n",
       "</div>"
      ],
      "text/plain": [
       "   First Name College University   Location  Marks/Subject\n",
       "64     Sanket                 DU    Chennai           39.0\n",
       "28  Aishwarya                JNU  Bangalore           42.0\n",
       "15  Pratiksha                 DU     Mumbai           38.0\n",
       "10      Ankit                BHU      Delhi           40.2\n",
       "7    Shivangi                BHU      Patna           36.6\n",
       "6     Rishika               SPPU       Pune           40.6\n",
       "1   Saiprasad               SPPU       Pune           45.0"
      ]
     },
     "execution_count": 450,
     "metadata": {},
     "output_type": "execute_result"
    }
   ],
   "source": [
    "data.sort_index(ascending = False)                      # Default Statement : Ascending = True"
   ]
  },
  {
   "cell_type": "code",
   "execution_count": 452,
   "id": "87fb4b27-fa90-4f7f-a4e1-a71cf9d8c254",
   "metadata": {},
   "outputs": [
    {
     "data": {
      "text/html": [
       "<div>\n",
       "<style scoped>\n",
       "    .dataframe tbody tr th:only-of-type {\n",
       "        vertical-align: middle;\n",
       "    }\n",
       "\n",
       "    .dataframe tbody tr th {\n",
       "        vertical-align: top;\n",
       "    }\n",
       "\n",
       "    .dataframe thead th {\n",
       "        text-align: right;\n",
       "    }\n",
       "</style>\n",
       "<table border=\"1\" class=\"dataframe\">\n",
       "  <thead>\n",
       "    <tr style=\"text-align: right;\">\n",
       "      <th></th>\n",
       "      <th>First Name</th>\n",
       "      <th>College University</th>\n",
       "      <th>Location</th>\n",
       "      <th>Marks/Subject</th>\n",
       "    </tr>\n",
       "  </thead>\n",
       "  <tbody>\n",
       "    <tr>\n",
       "      <th>1</th>\n",
       "      <td>Saiprasad</td>\n",
       "      <td>SPPU</td>\n",
       "      <td>Pune</td>\n",
       "      <td>45.0</td>\n",
       "    </tr>\n",
       "    <tr>\n",
       "      <th>28</th>\n",
       "      <td>Aishwarya</td>\n",
       "      <td>JNU</td>\n",
       "      <td>Bangalore</td>\n",
       "      <td>42.0</td>\n",
       "    </tr>\n",
       "    <tr>\n",
       "      <th>6</th>\n",
       "      <td>Rishika</td>\n",
       "      <td>SPPU</td>\n",
       "      <td>Pune</td>\n",
       "      <td>40.6</td>\n",
       "    </tr>\n",
       "    <tr>\n",
       "      <th>10</th>\n",
       "      <td>Ankit</td>\n",
       "      <td>BHU</td>\n",
       "      <td>Delhi</td>\n",
       "      <td>40.2</td>\n",
       "    </tr>\n",
       "    <tr>\n",
       "      <th>64</th>\n",
       "      <td>Sanket</td>\n",
       "      <td>DU</td>\n",
       "      <td>Chennai</td>\n",
       "      <td>39.0</td>\n",
       "    </tr>\n",
       "    <tr>\n",
       "      <th>15</th>\n",
       "      <td>Pratiksha</td>\n",
       "      <td>DU</td>\n",
       "      <td>Mumbai</td>\n",
       "      <td>38.0</td>\n",
       "    </tr>\n",
       "    <tr>\n",
       "      <th>7</th>\n",
       "      <td>Shivangi</td>\n",
       "      <td>BHU</td>\n",
       "      <td>Patna</td>\n",
       "      <td>36.6</td>\n",
       "    </tr>\n",
       "  </tbody>\n",
       "</table>\n",
       "</div>"
      ],
      "text/plain": [
       "   First Name College University   Location  Marks/Subject\n",
       "1   Saiprasad               SPPU       Pune           45.0\n",
       "28  Aishwarya                JNU  Bangalore           42.0\n",
       "6     Rishika               SPPU       Pune           40.6\n",
       "10      Ankit                BHU      Delhi           40.2\n",
       "64     Sanket                 DU    Chennai           39.0\n",
       "15  Pratiksha                 DU     Mumbai           38.0\n",
       "7    Shivangi                BHU      Patna           36.6"
      ]
     },
     "execution_count": 452,
     "metadata": {},
     "output_type": "execute_result"
    }
   ],
   "source": [
    "data.sort_values(by = 'Marks/Subject', ascending = False)   #sort values"
   ]
  },
  {
   "cell_type": "code",
   "execution_count": null,
   "id": "0f40fc7f-5c0a-4672-9e2a-02425250130e",
   "metadata": {},
   "outputs": [],
   "source": []
  }
 ],
 "metadata": {
  "kernelspec": {
   "display_name": "Python 3 (ipykernel)",
   "language": "python",
   "name": "python3"
  },
  "language_info": {
   "codemirror_mode": {
    "name": "ipython",
    "version": 3
   },
   "file_extension": ".py",
   "mimetype": "text/x-python",
   "name": "python",
   "nbconvert_exporter": "python",
   "pygments_lexer": "ipython3",
   "version": "3.12.4"
  }
 },
 "nbformat": 4,
 "nbformat_minor": 5
}
